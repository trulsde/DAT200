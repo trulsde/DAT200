{
 "cells": [
  {
   "cell_type": "code",
   "execution_count": null,
   "metadata": {},
   "outputs": [],
   "source": [
    "# load handwritten digit data set\n",
    "import numpy as np\n",
    "import matplotlib.pyplot as plt\n",
    "from sklearn import datasets\n",
    "from sklearn.preprocessing import StandardScaler\n",
    "\n",
    "# load the digits data set\n",
    "digits = datasets.load_digits()\n",
    "\n",
    "# plot the first 9 digits in a grid\n",
    "fig, ax = plt.subplots(3, 3, figsize=(8, 8))\n",
    "for i, axi in enumerate(ax.flat):\n",
    "    axi.imshow(digits.images[i], cmap='binary')\n",
    "    axi.set(xticks=[], yticks=[])\n",
    "plt.show()"
   ]
  },
  {
   "cell_type": "code",
   "execution_count": null,
   "metadata": {},
   "outputs": [],
   "source": [
    "# Scale by mean and standard deviation of all pixels (good)\n",
    "# Notice that the data set was already scaled this way by the authors\n",
    "X = digits.data\n",
    "mean = X.mean()\n",
    "std = X.std()\n",
    "X_scaled = (X - mean) / std\n",
    "\n",
    "fig, ax = plt.subplots(3, 3, figsize=(8, 8))\n",
    "for i, axi in enumerate(ax.flat):\n",
    "    axi.imshow(X_scaled[i].reshape(8, 8), cmap='binary')\n",
    "    axi.set(xticks=[], yticks=[])\n",
    "plt.show()"
   ]
  },
  {
   "cell_type": "code",
   "execution_count": null,
   "metadata": {},
   "outputs": [],
   "source": [
    "# Scale the data using StandardScaler\n",
    "# This normalizes each pixel independently (bad results; can remove important information)\n",
    "scaler = StandardScaler()\n",
    "scaler.fit(digits.data)\n",
    "X_scaled = scaler.transform(digits.data)\n",
    "\n",
    "fig, ax = plt.subplots(3, 3, figsize=(8, 8))\n",
    "for i, axi in enumerate(ax.flat):\n",
    "    axi.imshow(X_scaled[i].reshape(8, 8), cmap='binary')\n",
    "    axi.set(xticks=[], yticks=[])\n",
    "plt.show()"
   ]
  }
 ],
 "metadata": {
  "kernelspec": {
   "display_name": "Python 3",
   "language": "python",
   "name": "python3"
  },
  "language_info": {
   "codemirror_mode": {
    "name": "ipython",
    "version": 3
   },
   "file_extension": ".py",
   "mimetype": "text/x-python",
   "name": "python",
   "nbconvert_exporter": "python",
   "pygments_lexer": "ipython3",
   "version": "3.9.6"
  }
 },
 "nbformat": 4,
 "nbformat_minor": 2
}
