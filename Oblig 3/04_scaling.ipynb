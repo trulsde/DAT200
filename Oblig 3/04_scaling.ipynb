{
 "cells": [
  {
   "cell_type": "code",
   "execution_count": 1,
   "metadata": {},
   "outputs": [
    {
     "name": "stdout",
     "output_type": "stream",
     "text": [
      "X:\n",
      " [[ 0  0]\n",
      " [ 1  2]\n",
      " [ 2  4]\n",
      " [ 3  6]\n",
      " [ 4  8]\n",
      " [ 5 10]]\n",
      "Z:\n",
      " [[  0   0]\n",
      " [  1   2]\n",
      " [  2   4]\n",
      " [  3   6]\n",
      " [  4   8]\n",
      " [  5 999]]\n"
     ]
    }
   ],
   "source": [
    "from sklearn.preprocessing import MinMaxScaler, StandardScaler\n",
    "import numpy as np\n",
    "\n",
    "# =============================================================================\n",
    "# Some data: 6 samples, 2 features\n",
    "# =============================================================================\n",
    "X = np.array([[0, 1, 2, 3, 4, 5], [0, 2, 4, 6, 8, 10]]).T\n",
    "Z = np.array([[0, 1, 2, 3, 4, 5], [0, 2, 4, 6, 8, 999]]).T\n",
    "\n",
    "print(\"X:\\n\", X)\n",
    "print(\"Z:\\n\", Z)\n"
   ]
  },
  {
   "cell_type": "code",
   "execution_count": 2,
   "metadata": {},
   "outputs": [
    {
     "name": "stdout",
     "output_type": "stream",
     "text": [
      "X_mms:\n",
      " [[0.  0. ]\n",
      " [0.2 0.2]\n",
      " [0.4 0.4]\n",
      " [0.6 0.6]\n",
      " [0.8 0.8]\n",
      " [1.  1. ]]\n",
      "Z_mms:\n",
      " [[0.         0.        ]\n",
      " [0.2        0.002002  ]\n",
      " [0.4        0.004004  ]\n",
      " [0.6        0.00600601]\n",
      " [0.8        0.00800801]\n",
      " [1.         1.        ]]\n",
      "X: min=[0. 0.], max=[1. 1.], mean=[0.5 0.5], std=[0.34156503 0.34156503]\n",
      "Z: min=[0. 0.], max=[1. 1.], mean=[0.5        0.17000334], std=[0.34156503 0.37119479]\n"
     ]
    }
   ],
   "source": [
    "# =============================================================================\n",
    "# Normalising using the MinMaxScaler (put all values in range [min,max]; default [0,1]; sensitive to outliers)\n",
    "# =============================================================================\n",
    "mms = MinMaxScaler()\n",
    "X_mms = mms.fit_transform(X) # fit and transform in one step, equivalent to mms.fit(X) and then mms.transform(X)\n",
    "Z_mms = mms.fit_transform(Z)\n",
    "\n",
    "print(\"X_mms:\\n\", X_mms)\n",
    "print(\"Z_mms:\\n\", Z_mms)\n",
    "\n",
    "# print min, max, mean and std for X\n",
    "print(f\"X: min={np.min(X_mms, axis=0)}, max={np.max(X_mms, axis=0)}, mean={np.mean(X_mms, axis=0)}, std={np.std(X_mms, axis=0)}\")\n",
    "# print min, max, mean and std for Z\n",
    "print(f\"Z: min={np.min(Z_mms, axis=0)}, max={np.max(Z_mms, axis=0)}, mean={np.mean(Z_mms, axis=0)}, std={np.std(Z_mms, axis=0)}\")"
   ]
  },
  {
   "cell_type": "code",
   "execution_count": 3,
   "metadata": {},
   "outputs": [
    {
     "name": "stdout",
     "output_type": "stream",
     "text": [
      "X_std:\n",
      " [[-1.46385011 -1.46385011]\n",
      " [-0.87831007 -0.87831007]\n",
      " [-0.29277002 -0.29277002]\n",
      " [ 0.29277002  0.29277002]\n",
      " [ 0.87831007  0.87831007]\n",
      " [ 1.46385011  1.46385011]]\n",
      "Z_std:\n",
      " [[-1.46385011 -0.45798955]\n",
      " [-0.87831007 -0.45259615]\n",
      " [-0.29277002 -0.44720275]\n",
      " [ 0.29277002 -0.44180935]\n",
      " [ 0.87831007 -0.43641595]\n",
      " [ 1.46385011  2.23601377]]\n",
      "X: min=[-1.46385011 -1.46385011], max=[1.46385011 1.46385011], mean=[-3.70074342e-17 -3.70074342e-17], std=[1. 1.]\n",
      "Z: min=[-1.46385011 -0.45798955], max=[1.46385011 2.23601377], mean=[-3.70074342e-17  0.00000000e+00], std=[1. 1.]\n"
     ]
    }
   ],
   "source": [
    "# =============================================================================\n",
    "# Standardising unsing the StandardScaler\n",
    "# =============================================================================\n",
    "stdsc = StandardScaler()\n",
    "X_std = stdsc.fit_transform(X)\n",
    "Z_std = stdsc.fit_transform(Z)\n",
    "\n",
    "print(\"X_std:\\n\", X_std)\n",
    "print(\"Z_std:\\n\", Z_std)\n",
    "\n",
    "# print min, max, mean and std for X\n",
    "print(f\"X: min={np.min(X_std, axis=0)}, max={np.max(X_std, axis=0)}, mean={np.mean(X_std, axis=0)}, std={np.std(X_std, axis=0)}\")\n",
    "# print min, max, mean and std for Z\n",
    "print(f\"Z: min={np.min(Z_std, axis=0)}, max={np.max(Z_std, axis=0)}, mean={np.mean(Z_std, axis=0)}, std={np.std(Z_std, axis=0)}\")"
   ]
  }
 ],
 "metadata": {
  "kernelspec": {
   "display_name": "Python 3 (ipykernel)",
   "language": "python",
   "name": "python3"
  },
  "language_info": {
   "codemirror_mode": {
    "name": "ipython",
    "version": 3
   },
   "file_extension": ".py",
   "mimetype": "text/x-python",
   "name": "python",
   "nbconvert_exporter": "python",
   "pygments_lexer": "ipython3",
   "version": "3.10.8"
  }
 },
 "nbformat": 4,
 "nbformat_minor": 4
}
