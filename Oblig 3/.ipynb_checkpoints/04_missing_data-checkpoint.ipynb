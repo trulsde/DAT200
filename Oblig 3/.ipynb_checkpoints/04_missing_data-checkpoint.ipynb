{
 "cells": [
  {
   "cell_type": "code",
   "execution_count": null,
   "metadata": {},
   "outputs": [],
   "source": [
    "import pandas as pd\n",
    "import numpy as np\n",
    "from io import StringIO\n",
    "\n",
    "# Create a small dataset to analyze\n",
    "\n",
    "csv_data = \"\"\"\n",
    "A,B,C,D\n",
    "1.0,2.0,3.0,4.0\n",
    "5.0,6.0,,8.0\n",
    "10.0,11.0,12.0,\n",
    "\"\"\"\n",
    "\n",
    "# read the CSV data into a pandas DataFrame\n",
    "df = pd.read_csv(StringIO(csv_data))\n",
    "\n",
    "# show the dataset\n",
    "def show_dataset(df):\n",
    "    return df.style.background_gradient(cmap='Greens').highlight_null('orange').format(\"{:.2f}\")\n",
    "\n",
    "show_dataset(df)"
   ]
  },
  {
   "cell_type": "markdown",
   "metadata": {},
   "source": [
    "# Removing missing values"
   ]
  },
  {
   "cell_type": "code",
   "execution_count": null,
   "metadata": {},
   "outputs": [],
   "source": [
    "# =============================================================================\n",
    "# Identify columns containg missing values\n",
    "# =============================================================================\n",
    "df.isnull().sum()\n"
   ]
  },
  {
   "cell_type": "code",
   "execution_count": null,
   "metadata": {},
   "outputs": [],
   "source": [
    "# ===========================================\n",
    "# Access numpy array from pandas data frame\n",
    "# ============================================\n",
    "# access the underlying NumPy array\n",
    "# via the `values` attribute\n",
    "df_array = df.values\n",
    "print(df_array)"
   ]
  },
  {
   "cell_type": "code",
   "execution_count": null,
   "metadata": {},
   "outputs": [],
   "source": [
    "# show initial dataset again\n",
    "show_dataset(df)"
   ]
  },
  {
   "cell_type": "code",
   "execution_count": null,
   "metadata": {},
   "outputs": [],
   "source": [
    "# ===========================================\n",
    "# (A) Remove rows that contain missing values\n",
    "# ============================================\n",
    "a = df.dropna(axis=0)\n",
    "\n",
    "# show the dataset\n",
    "show_dataset(a)"
   ]
  },
  {
   "cell_type": "code",
   "execution_count": null,
   "metadata": {},
   "outputs": [],
   "source": [
    "# ===========================================\n",
    "# (B) Remove columns that contain missing values\n",
    "# ============================================\n",
    "b = df.dropna(axis=1)\n",
    "\n",
    "# show the dataset\n",
    "show_dataset(b)"
   ]
  },
  {
   "cell_type": "code",
   "execution_count": null,
   "metadata": {},
   "outputs": [],
   "source": [
    "# make one sample completely empty\n",
    "modified_df = df.copy()\n",
    "modified_df.loc[2] = np.nan\n",
    "show_dataset(modified_df)"
   ]
  },
  {
   "cell_type": "code",
   "execution_count": null,
   "metadata": {},
   "outputs": [],
   "source": [
    "# ===========================================\n",
    "# (C) Remove row where all columns are NaN\n",
    "# ============================================\n",
    "c = modified_df.dropna(how='all')\n",
    "\n",
    "# show the dataset\n",
    "show_dataset(c)"
   ]
  },
  {
   "cell_type": "code",
   "execution_count": null,
   "metadata": {},
   "outputs": [],
   "source": [
    "# ===========================================\n",
    "# (D) Remove rows that have less than 4 real values\n",
    "# ============================================\n",
    "d = df.dropna(thresh=4)\n",
    "\n",
    "# show the dataset\n",
    "show_dataset(d)"
   ]
  },
  {
   "cell_type": "code",
   "execution_count": null,
   "metadata": {},
   "outputs": [],
   "source": [
    "# ===========================================\n",
    "# (E) Only drop rows where NaN appear in specific columns (here: 'C')\n",
    "# ============================================\n",
    "f = df.dropna(subset=['C'])\n",
    "\n",
    "# show the dataset\n",
    "show_dataset(f)"
   ]
  },
  {
   "cell_type": "markdown",
   "metadata": {},
   "source": [
    "# Imputing missing values"
   ]
  },
  {
   "cell_type": "code",
   "execution_count": null,
   "metadata": {},
   "outputs": [],
   "source": [
    "show_dataset(df)"
   ]
  },
  {
   "cell_type": "code",
   "execution_count": null,
   "metadata": {},
   "outputs": [],
   "source": [
    "from sklearn.impute import SimpleImputer"
   ]
  },
  {
   "cell_type": "code",
   "execution_count": null,
   "metadata": {},
   "outputs": [],
   "source": [
    "# Impute missing values using the column mean\n",
    "imputer = SimpleImputer(missing_values=np.nan, strategy='mean') # other popular choices: \"median\", \"most_frequent\"\n",
    "imputer.fit(df.values)\n",
    "imputed_data = imputer.transform(df.values)\n",
    "\n",
    "# show the dataset\n",
    "# note that the output of the SimpleImputer is a NumPy array\n",
    "# so we need to convert it back to a pandas DataFrame to use our helper function\n",
    "show_dataset(pd.DataFrame(imputed_data))"
   ]
  }
 ],
 "metadata": {
  "kernelspec": {
   "display_name": ".venv",
   "language": "python",
   "name": "python3"
  },
  "language_info": {
   "codemirror_mode": {
    "name": "ipython",
    "version": 3
   },
   "file_extension": ".py",
   "mimetype": "text/x-python",
   "name": "python",
   "nbconvert_exporter": "python",
   "pygments_lexer": "ipython3",
   "version": "3.9.6"
  }
 },
 "nbformat": 4,
 "nbformat_minor": 2
}
