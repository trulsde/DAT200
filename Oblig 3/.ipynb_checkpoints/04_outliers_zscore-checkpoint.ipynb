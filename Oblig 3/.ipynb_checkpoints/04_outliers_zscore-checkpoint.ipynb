{
 "cells": [
  {
   "cell_type": "code",
   "execution_count": null,
   "metadata": {},
   "outputs": [],
   "source": [
    "import numpy as np\n",
    "import pandas as pd\n",
    "import matplotlib.pyplot as plt"
   ]
  },
  {
   "cell_type": "code",
   "execution_count": null,
   "metadata": {},
   "outputs": [],
   "source": [
    "# Sample a normal distribution with a given mean and standard deviation\n",
    "# and some outliers and plot the histogram of the samples\n",
    "samples = np.hstack([np.random.normal(3.0, 0.3, 10000), [-8, 6, 8, 10, 12, 40]+[0,]*100])\n",
    "# plot the histogram\n",
    "plt.hist(samples, bins=100, density=True)\n",
    "plt.show()"
   ]
  },
  {
   "cell_type": "code",
   "execution_count": null,
   "metadata": {},
   "outputs": [],
   "source": [
    "# use a boxplot to visualize the distribution\n",
    "plt.boxplot(samples)\n",
    "plt.show()"
   ]
  },
  {
   "cell_type": "code",
   "execution_count": null,
   "metadata": {},
   "outputs": [],
   "source": [
    "# use a violin plot to visualize the distribution\n",
    "plt.violinplot(samples)\n",
    "plt.show()"
   ]
  },
  {
   "cell_type": "code",
   "execution_count": null,
   "metadata": {},
   "outputs": [],
   "source": [
    "# Detect the outliers using the z-score\n",
    "z_scores = (samples - np.mean(samples)) / np.std(samples)\n",
    "outliers = np.abs(z_scores) > 3\n",
    "print(f\"Number of outliers: {np.sum(outliers)}\")"
   ]
  },
  {
   "cell_type": "code",
   "execution_count": null,
   "metadata": {},
   "outputs": [],
   "source": [
    "# put data into a pandas dataframe\n",
    "df = pd.DataFrame(samples, columns=['value'])\n",
    "df.describe()"
   ]
  },
  {
   "cell_type": "code",
   "execution_count": null,
   "metadata": {},
   "outputs": [],
   "source": [
    "# Remove the outliers using the z-score (keep only the samples with z-score < -3 or > 3)\n",
    "np.abs(z_scores).shape\n",
    "df_clean = df[np.abs(z_scores) < 3]\n",
    "\n",
    "# plot the histogram\n",
    "plt.hist(df_clean['value'], bins=100)\n",
    "plt.show()"
   ]
  },
  {
   "cell_type": "code",
   "execution_count": null,
   "metadata": {},
   "outputs": [],
   "source": [
    "# apply the procedure again this time removing values with z-score > 2 or < -2\n",
    "z_scores_clean = (df_clean['value'] - np.mean(df_clean['value'])) / np.std(df_clean['value'])\n",
    "df_clean = df_clean[np.abs(z_scores_clean) < 2]\n",
    "# plot the histogram\n",
    "plt.hist(df_clean['value'], bins=100)\n",
    "plt.show()\n",
    "\n",
    "#######################################################################################\n",
    "# Looks like we have removed too many samples!! (Be careful with the threshold you choose for the z-score!)\n",
    "#######################################################################################\n"
   ]
  },
  {
   "cell_type": "code",
   "execution_count": null,
   "metadata": {},
   "outputs": [],
   "source": [
    "# Make an example with log-normal distribution\n",
    "samples = np.random.lognormal(0, 1, 10000)\n",
    "# plot the histogram\n",
    "plt.hist(samples, bins=100)\n",
    "plt.show()\n",
    "\n",
    "# Detect the outliers using the z-score\n",
    "z_scores = (samples - np.mean(samples)) / np.std(samples)\n",
    "outliers = np.abs(z_scores) > 3\n",
    "print(f\"Number of outliers: {np.sum(outliers)}\")\n",
    "\n",
    "#######################################################################################\n",
    "# Here it seems that the z-score is not a good measure to detect outliers\n",
    "#######################################################################################"
   ]
  }
 ],
 "metadata": {
  "kernelspec": {
   "display_name": ".venv",
   "language": "python",
   "name": "python3"
  },
  "language_info": {
   "codemirror_mode": {
    "name": "ipython",
    "version": 3
   },
   "file_extension": ".py",
   "mimetype": "text/x-python",
   "name": "python",
   "nbconvert_exporter": "python",
   "pygments_lexer": "ipython3",
   "version": "3.9.6"
  }
 },
 "nbformat": 4,
 "nbformat_minor": 2
}
