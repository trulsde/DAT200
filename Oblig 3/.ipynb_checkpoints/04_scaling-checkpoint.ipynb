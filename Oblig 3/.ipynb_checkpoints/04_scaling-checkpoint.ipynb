{
 "cells": [
  {
   "cell_type": "code",
   "execution_count": null,
   "metadata": {},
   "outputs": [],
   "source": [
    "from sklearn.preprocessing import MinMaxScaler, StandardScaler\n",
    "import numpy as np\n",
    "\n",
    "# =============================================================================\n",
    "# Some data: 6 samples, 2 features\n",
    "# =============================================================================\n",
    "X = np.array([[0, 1, 2, 3, 4, 5], [0, 2, 4, 6, 8, 10]]).T\n",
    "Z = np.array([[0, 1, 2, 3, 4, 5], [0, 2, 4, 6, 8, 999]]).T\n",
    "\n",
    "print(\"X:\\n\", X)\n",
    "print(\"Z:\\n\", Z)\n"
   ]
  },
  {
   "cell_type": "code",
   "execution_count": null,
   "metadata": {},
   "outputs": [],
   "source": [
    "# =============================================================================\n",
    "# Normalising using the MinMaxScaler (put all values in range [min,max]; default [0,1]; sensitive to outliers)\n",
    "# =============================================================================\n",
    "mms = MinMaxScaler()\n",
    "X_mms = mms.fit_transform(X) # fit and transform in one step, equivalent to mms.fit(X) and then mms.transform(X)\n",
    "Z_mms = mms.fit_transform(Z)\n",
    "\n",
    "print(\"X_mms:\\n\", X_mms)\n",
    "print(\"Z_mms:\\n\", Z_mms)\n",
    "\n",
    "# print min, max, mean and std for X\n",
    "print(f\"X: min={np.min(X_mms, axis=0)}, max={np.max(X_mms, axis=0)}, mean={np.mean(X_mms, axis=0)}, std={np.std(X_mms, axis=0)}\")\n",
    "# print min, max, mean and std for Z\n",
    "print(f\"Z: min={np.min(Z_mms, axis=0)}, max={np.max(Z_mms, axis=0)}, mean={np.mean(Z_mms, axis=0)}, std={np.std(Z_mms, axis=0)}\")"
   ]
  },
  {
   "cell_type": "code",
   "execution_count": null,
   "metadata": {},
   "outputs": [],
   "source": [
    "# =============================================================================\n",
    "# Standardising unsing the StandardScaler\n",
    "# =============================================================================\n",
    "stdsc = StandardScaler()\n",
    "X_std = stdsc.fit_transform(X)\n",
    "Z_std = stdsc.fit_transform(Z)\n",
    "\n",
    "print(\"X_std:\\n\", X_std)\n",
    "print(\"Z_std:\\n\", Z_std)\n",
    "\n",
    "# print min, max, mean and std for X\n",
    "print(f\"X: min={np.min(X_std, axis=0)}, max={np.max(X_std, axis=0)}, mean={np.mean(X_std, axis=0)}, std={np.std(X_std, axis=0)}\")\n",
    "# print min, max, mean and std for Z\n",
    "print(f\"Z: min={np.min(Z_std, axis=0)}, max={np.max(Z_std, axis=0)}, mean={np.mean(Z_std, axis=0)}, std={np.std(Z_std, axis=0)}\")"
   ]
  }
 ],
 "metadata": {
  "kernelspec": {
   "display_name": ".venv",
   "language": "python",
   "name": "python3"
  },
  "language_info": {
   "codemirror_mode": {
    "name": "ipython",
    "version": 3
   },
   "file_extension": ".py",
   "mimetype": "text/x-python",
   "name": "python",
   "nbconvert_exporter": "python",
   "pygments_lexer": "ipython3",
   "version": "3.9.6"
  }
 },
 "nbformat": 4,
 "nbformat_minor": 2
}
