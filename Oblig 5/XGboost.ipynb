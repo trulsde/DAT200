{
 "cells": [
  {
   "cell_type": "markdown",
   "metadata": {},
   "source": [
    "## Machine Learning with XGboost\n",
    "\n",
    "Implementation of XG Boost using the custom python package. Note; there are (currently) no Scikit-learn implementation of XG boost, however the package integrates with other scikit-learn functions through the scikit-learner API (e.g.,predict(), fit()).\n",
    "\n",
    "We will use the Hotel booking dataset. This data set contains booking information for a city hotel and a resort hotel, and includes information such as when the booking was made, length of stay, the number of adults, children, and/or babies, and the number of available parking spaces, among other things.\n",
    "\n",
    "Links\\\n",
    "[XG boost package](https://www.kaggle.com/datasets/jessemostipak/hotel-booking-demand)\\\n",
    "[Code](https://github.com/datacamp/Machine-Learning-With-XGboost-live-training/blob/master/notebooks/Machine-Learning-with-XGBoost.ipynb)\\\n",
    "[Data](https://www.kaggle.com/datasets/jessemostipak/hotel-booking-demand)\n"
   ]
  },
  {
   "cell_type": "markdown",
   "metadata": {},
   "source": [
    "### Install neccassary packages"
   ]
  },
  {
   "cell_type": "code",
   "execution_count": 2,
   "metadata": {},
   "outputs": [],
   "source": [
    "# -- pip install xgboost\n",
    "# -- pip install seaborn"
   ]
  },
  {
   "cell_type": "code",
   "execution_count": 198,
   "metadata": {},
   "outputs": [],
   "source": [
    "from sklearn.model_selection import train_test_split\n",
    "from sklearn.preprocessing import MinMaxScaler\n",
    "from sklearn.model_selection import cross_val_score, GridSearchCV, KFold, RandomizedSearchCV, ShuffleSplit\n",
    "from sklearn.metrics import auc, accuracy_score, confusion_matrix, mean_squared_error\n",
    "\n",
    "import pandas as pd\n",
    "import xgboost as xgb # XGBoost typically uses the alias \"xgb\"\n",
    "import matplotlib.pyplot as plt\n",
    "import seaborn as sns\n",
    "import numpy as np"
   ]
  },
  {
   "cell_type": "markdown",
   "metadata": {},
   "source": [
    "_____"
   ]
  },
  {
   "cell_type": "markdown",
   "metadata": {},
   "source": [
    "### Exploring the data"
   ]
  },
  {
   "cell_type": "code",
   "execution_count": 3,
   "metadata": {},
   "outputs": [
    {
     "name": "stdout",
     "output_type": "stream",
     "text": [
      "<class 'pandas.core.frame.DataFrame'>\n",
      "RangeIndex: 119210 entries, 0 to 119209\n",
      "Data columns (total 53 columns):\n",
      " #   Column                          Non-Null Count   Dtype  \n",
      "---  ------                          --------------   -----  \n",
      " 0   is_canceled                     119210 non-null  int64  \n",
      " 1   lead_time                       119210 non-null  int64  \n",
      " 2   arrival_date_week_number        119210 non-null  int64  \n",
      " 3   arrival_date_day_of_month       119210 non-null  int64  \n",
      " 4   arrival_date_month              119210 non-null  int64  \n",
      " 5   stays_in_weekend_nights         119210 non-null  int64  \n",
      " 6   stays_in_week_nights            119210 non-null  int64  \n",
      " 7   adults                          119210 non-null  int64  \n",
      " 8   children                        119206 non-null  float64\n",
      " 9   babies                          119210 non-null  int64  \n",
      " 10  is_repeated_guest               119210 non-null  int64  \n",
      " 11  previous_cancellations          119210 non-null  int64  \n",
      " 12  previous_bookings_not_canceled  119210 non-null  int64  \n",
      " 13  required_car_parking_spaces     119210 non-null  int64  \n",
      " 14  total_of_special_requests       119210 non-null  int64  \n",
      " 15  avg_daily_rate                  119210 non-null  float64\n",
      " 16  booked_by_company               119210 non-null  int64  \n",
      " 17  booked_by_agent                 119210 non-null  int64  \n",
      " 18  hotel_City                      119210 non-null  int64  \n",
      " 19  hotel_Resort                    119210 non-null  int64  \n",
      " 20  meal_BB                         119210 non-null  int64  \n",
      " 21  meal_FB                         119210 non-null  int64  \n",
      " 22  meal_HB                         119210 non-null  int64  \n",
      " 23  meal_No_meal                    119210 non-null  int64  \n",
      " 24  market_segment_Aviation         119210 non-null  int64  \n",
      " 25  market_segment_Complementary    119210 non-null  int64  \n",
      " 26  market_segment_Corporate        119210 non-null  int64  \n",
      " 27  market_segment_Direct           119210 non-null  int64  \n",
      " 28  market_segment_Groups           119210 non-null  int64  \n",
      " 29  market_segment_Offline_TA_TO    119210 non-null  int64  \n",
      " 30  market_segment_Online_TA        119210 non-null  int64  \n",
      " 31  market_segment_Undefined        119210 non-null  int64  \n",
      " 32  distribution_channel_Corporate  119210 non-null  int64  \n",
      " 33  distribution_channel_Direct     119210 non-null  int64  \n",
      " 34  distribution_channel_GDS        119210 non-null  int64  \n",
      " 35  distribution_channel_TA_TO      119210 non-null  int64  \n",
      " 36  distribution_channel_Undefined  119210 non-null  int64  \n",
      " 37  reserved_room_type_A            119210 non-null  int64  \n",
      " 38  reserved_room_type_B            119210 non-null  int64  \n",
      " 39  reserved_room_type_C            119210 non-null  int64  \n",
      " 40  reserved_room_type_D            119210 non-null  int64  \n",
      " 41  reserved_room_type_E            119210 non-null  int64  \n",
      " 42  reserved_room_type_F            119210 non-null  int64  \n",
      " 43  reserved_room_type_G            119210 non-null  int64  \n",
      " 44  reserved_room_type_H            119210 non-null  int64  \n",
      " 45  reserved_room_type_L            119210 non-null  int64  \n",
      " 46  deposit_type_No_Deposit         119210 non-null  int64  \n",
      " 47  deposit_type_Non_Refund         119210 non-null  int64  \n",
      " 48  deposit_type_Refundable         119210 non-null  int64  \n",
      " 49  customer_type_Contract          119210 non-null  int64  \n",
      " 50  customer_type_Group             119210 non-null  int64  \n",
      " 51  customer_type_Transient         119210 non-null  int64  \n",
      " 52  customer_type_Transient-Party   119210 non-null  int64  \n",
      "dtypes: float64(2), int64(51)\n",
      "memory usage: 48.2 MB\n"
     ]
    }
   ],
   "source": [
    "# Read in the dataset\n",
    "bookings = pd.read_csv('https://raw.githubusercontent.com/datacamp/Machine-Learning-With-XGboost-live-training/master/data/hotel_bookings_clean.csv')\n",
    "\n",
    "# List out our columns\n",
    "bookings.info()"
   ]
  },
  {
   "cell_type": "code",
   "execution_count": 64,
   "metadata": {},
   "outputs": [
    {
     "data": {
      "text/html": [
       "<div>\n",
       "<style scoped>\n",
       "    .dataframe tbody tr th:only-of-type {\n",
       "        vertical-align: middle;\n",
       "    }\n",
       "\n",
       "    .dataframe tbody tr th {\n",
       "        vertical-align: top;\n",
       "    }\n",
       "\n",
       "    .dataframe thead th {\n",
       "        text-align: right;\n",
       "    }\n",
       "</style>\n",
       "<table border=\"1\" class=\"dataframe\">\n",
       "  <thead>\n",
       "    <tr style=\"text-align: right;\">\n",
       "      <th></th>\n",
       "      <th>is_canceled</th>\n",
       "      <th>lead_time</th>\n",
       "      <th>arrival_date_week_number</th>\n",
       "      <th>arrival_date_day_of_month</th>\n",
       "      <th>arrival_date_month</th>\n",
       "      <th>stays_in_weekend_nights</th>\n",
       "      <th>stays_in_week_nights</th>\n",
       "      <th>adults</th>\n",
       "      <th>children</th>\n",
       "      <th>babies</th>\n",
       "      <th>...</th>\n",
       "      <th>reserved_room_type_G</th>\n",
       "      <th>reserved_room_type_H</th>\n",
       "      <th>reserved_room_type_L</th>\n",
       "      <th>deposit_type_No_Deposit</th>\n",
       "      <th>deposit_type_Non_Refund</th>\n",
       "      <th>deposit_type_Refundable</th>\n",
       "      <th>customer_type_Contract</th>\n",
       "      <th>customer_type_Group</th>\n",
       "      <th>customer_type_Transient</th>\n",
       "      <th>customer_type_Transient-Party</th>\n",
       "    </tr>\n",
       "  </thead>\n",
       "  <tbody>\n",
       "    <tr>\n",
       "      <th>count</th>\n",
       "      <td>119210.000000</td>\n",
       "      <td>119210.000000</td>\n",
       "      <td>119210.000000</td>\n",
       "      <td>119210.000000</td>\n",
       "      <td>119210.000000</td>\n",
       "      <td>119210.000000</td>\n",
       "      <td>119210.000000</td>\n",
       "      <td>119210.000000</td>\n",
       "      <td>119206.000000</td>\n",
       "      <td>119210.000000</td>\n",
       "      <td>...</td>\n",
       "      <td>119210.000000</td>\n",
       "      <td>119210.000000</td>\n",
       "      <td>119210.000000</td>\n",
       "      <td>119210.000000</td>\n",
       "      <td>119210.000000</td>\n",
       "      <td>119210.000000</td>\n",
       "      <td>119210.000000</td>\n",
       "      <td>119210.000000</td>\n",
       "      <td>119210.000000</td>\n",
       "      <td>119210.000000</td>\n",
       "    </tr>\n",
       "    <tr>\n",
       "      <th>mean</th>\n",
       "      <td>0.370766</td>\n",
       "      <td>104.109227</td>\n",
       "      <td>27.163376</td>\n",
       "      <td>15.798717</td>\n",
       "      <td>6.552051</td>\n",
       "      <td>0.927053</td>\n",
       "      <td>2.499195</td>\n",
       "      <td>1.859206</td>\n",
       "      <td>0.104047</td>\n",
       "      <td>0.007961</td>\n",
       "      <td>...</td>\n",
       "      <td>0.017549</td>\n",
       "      <td>0.005042</td>\n",
       "      <td>0.000050</td>\n",
       "      <td>0.876277</td>\n",
       "      <td>0.122364</td>\n",
       "      <td>0.001359</td>\n",
       "      <td>0.034158</td>\n",
       "      <td>0.004815</td>\n",
       "      <td>0.750575</td>\n",
       "      <td>0.210452</td>\n",
       "    </tr>\n",
       "    <tr>\n",
       "      <th>std</th>\n",
       "      <td>0.483012</td>\n",
       "      <td>106.875450</td>\n",
       "      <td>13.601107</td>\n",
       "      <td>8.781070</td>\n",
       "      <td>3.089796</td>\n",
       "      <td>0.995117</td>\n",
       "      <td>1.897106</td>\n",
       "      <td>0.575186</td>\n",
       "      <td>0.398842</td>\n",
       "      <td>0.097509</td>\n",
       "      <td>...</td>\n",
       "      <td>0.131305</td>\n",
       "      <td>0.070825</td>\n",
       "      <td>0.007094</td>\n",
       "      <td>0.329266</td>\n",
       "      <td>0.327707</td>\n",
       "      <td>0.036839</td>\n",
       "      <td>0.181636</td>\n",
       "      <td>0.069223</td>\n",
       "      <td>0.432682</td>\n",
       "      <td>0.407631</td>\n",
       "    </tr>\n",
       "    <tr>\n",
       "      <th>min</th>\n",
       "      <td>0.000000</td>\n",
       "      <td>0.000000</td>\n",
       "      <td>1.000000</td>\n",
       "      <td>1.000000</td>\n",
       "      <td>1.000000</td>\n",
       "      <td>0.000000</td>\n",
       "      <td>0.000000</td>\n",
       "      <td>0.000000</td>\n",
       "      <td>0.000000</td>\n",
       "      <td>0.000000</td>\n",
       "      <td>...</td>\n",
       "      <td>0.000000</td>\n",
       "      <td>0.000000</td>\n",
       "      <td>0.000000</td>\n",
       "      <td>0.000000</td>\n",
       "      <td>0.000000</td>\n",
       "      <td>0.000000</td>\n",
       "      <td>0.000000</td>\n",
       "      <td>0.000000</td>\n",
       "      <td>0.000000</td>\n",
       "      <td>0.000000</td>\n",
       "    </tr>\n",
       "    <tr>\n",
       "      <th>25%</th>\n",
       "      <td>0.000000</td>\n",
       "      <td>18.000000</td>\n",
       "      <td>16.000000</td>\n",
       "      <td>8.000000</td>\n",
       "      <td>4.000000</td>\n",
       "      <td>0.000000</td>\n",
       "      <td>1.000000</td>\n",
       "      <td>2.000000</td>\n",
       "      <td>0.000000</td>\n",
       "      <td>0.000000</td>\n",
       "      <td>...</td>\n",
       "      <td>0.000000</td>\n",
       "      <td>0.000000</td>\n",
       "      <td>0.000000</td>\n",
       "      <td>1.000000</td>\n",
       "      <td>0.000000</td>\n",
       "      <td>0.000000</td>\n",
       "      <td>0.000000</td>\n",
       "      <td>0.000000</td>\n",
       "      <td>1.000000</td>\n",
       "      <td>0.000000</td>\n",
       "    </tr>\n",
       "    <tr>\n",
       "      <th>50%</th>\n",
       "      <td>0.000000</td>\n",
       "      <td>69.000000</td>\n",
       "      <td>28.000000</td>\n",
       "      <td>16.000000</td>\n",
       "      <td>7.000000</td>\n",
       "      <td>1.000000</td>\n",
       "      <td>2.000000</td>\n",
       "      <td>2.000000</td>\n",
       "      <td>0.000000</td>\n",
       "      <td>0.000000</td>\n",
       "      <td>...</td>\n",
       "      <td>0.000000</td>\n",
       "      <td>0.000000</td>\n",
       "      <td>0.000000</td>\n",
       "      <td>1.000000</td>\n",
       "      <td>0.000000</td>\n",
       "      <td>0.000000</td>\n",
       "      <td>0.000000</td>\n",
       "      <td>0.000000</td>\n",
       "      <td>1.000000</td>\n",
       "      <td>0.000000</td>\n",
       "    </tr>\n",
       "    <tr>\n",
       "      <th>75%</th>\n",
       "      <td>1.000000</td>\n",
       "      <td>161.000000</td>\n",
       "      <td>38.000000</td>\n",
       "      <td>23.000000</td>\n",
       "      <td>9.000000</td>\n",
       "      <td>2.000000</td>\n",
       "      <td>3.000000</td>\n",
       "      <td>2.000000</td>\n",
       "      <td>0.000000</td>\n",
       "      <td>0.000000</td>\n",
       "      <td>...</td>\n",
       "      <td>0.000000</td>\n",
       "      <td>0.000000</td>\n",
       "      <td>0.000000</td>\n",
       "      <td>1.000000</td>\n",
       "      <td>0.000000</td>\n",
       "      <td>0.000000</td>\n",
       "      <td>0.000000</td>\n",
       "      <td>0.000000</td>\n",
       "      <td>1.000000</td>\n",
       "      <td>0.000000</td>\n",
       "    </tr>\n",
       "    <tr>\n",
       "      <th>max</th>\n",
       "      <td>1.000000</td>\n",
       "      <td>737.000000</td>\n",
       "      <td>53.000000</td>\n",
       "      <td>31.000000</td>\n",
       "      <td>12.000000</td>\n",
       "      <td>19.000000</td>\n",
       "      <td>50.000000</td>\n",
       "      <td>55.000000</td>\n",
       "      <td>10.000000</td>\n",
       "      <td>10.000000</td>\n",
       "      <td>...</td>\n",
       "      <td>1.000000</td>\n",
       "      <td>1.000000</td>\n",
       "      <td>1.000000</td>\n",
       "      <td>1.000000</td>\n",
       "      <td>1.000000</td>\n",
       "      <td>1.000000</td>\n",
       "      <td>1.000000</td>\n",
       "      <td>1.000000</td>\n",
       "      <td>1.000000</td>\n",
       "      <td>1.000000</td>\n",
       "    </tr>\n",
       "  </tbody>\n",
       "</table>\n",
       "<p>8 rows × 53 columns</p>\n",
       "</div>"
      ],
      "text/plain": [
       "         is_canceled      lead_time  arrival_date_week_number  \\\n",
       "count  119210.000000  119210.000000             119210.000000   \n",
       "mean        0.370766     104.109227                 27.163376   \n",
       "std         0.483012     106.875450                 13.601107   \n",
       "min         0.000000       0.000000                  1.000000   \n",
       "25%         0.000000      18.000000                 16.000000   \n",
       "50%         0.000000      69.000000                 28.000000   \n",
       "75%         1.000000     161.000000                 38.000000   \n",
       "max         1.000000     737.000000                 53.000000   \n",
       "\n",
       "       arrival_date_day_of_month  arrival_date_month  stays_in_weekend_nights  \\\n",
       "count              119210.000000       119210.000000            119210.000000   \n",
       "mean                   15.798717            6.552051                 0.927053   \n",
       "std                     8.781070            3.089796                 0.995117   \n",
       "min                     1.000000            1.000000                 0.000000   \n",
       "25%                     8.000000            4.000000                 0.000000   \n",
       "50%                    16.000000            7.000000                 1.000000   \n",
       "75%                    23.000000            9.000000                 2.000000   \n",
       "max                    31.000000           12.000000                19.000000   \n",
       "\n",
       "       stays_in_week_nights         adults       children         babies  ...  \\\n",
       "count         119210.000000  119210.000000  119206.000000  119210.000000  ...   \n",
       "mean               2.499195       1.859206       0.104047       0.007961  ...   \n",
       "std                1.897106       0.575186       0.398842       0.097509  ...   \n",
       "min                0.000000       0.000000       0.000000       0.000000  ...   \n",
       "25%                1.000000       2.000000       0.000000       0.000000  ...   \n",
       "50%                2.000000       2.000000       0.000000       0.000000  ...   \n",
       "75%                3.000000       2.000000       0.000000       0.000000  ...   \n",
       "max               50.000000      55.000000      10.000000      10.000000  ...   \n",
       "\n",
       "       reserved_room_type_G  reserved_room_type_H  reserved_room_type_L  \\\n",
       "count         119210.000000         119210.000000         119210.000000   \n",
       "mean               0.017549              0.005042              0.000050   \n",
       "std                0.131305              0.070825              0.007094   \n",
       "min                0.000000              0.000000              0.000000   \n",
       "25%                0.000000              0.000000              0.000000   \n",
       "50%                0.000000              0.000000              0.000000   \n",
       "75%                0.000000              0.000000              0.000000   \n",
       "max                1.000000              1.000000              1.000000   \n",
       "\n",
       "       deposit_type_No_Deposit  deposit_type_Non_Refund  \\\n",
       "count            119210.000000            119210.000000   \n",
       "mean                  0.876277                 0.122364   \n",
       "std                   0.329266                 0.327707   \n",
       "min                   0.000000                 0.000000   \n",
       "25%                   1.000000                 0.000000   \n",
       "50%                   1.000000                 0.000000   \n",
       "75%                   1.000000                 0.000000   \n",
       "max                   1.000000                 1.000000   \n",
       "\n",
       "       deposit_type_Refundable  customer_type_Contract  customer_type_Group  \\\n",
       "count            119210.000000           119210.000000        119210.000000   \n",
       "mean                  0.001359                0.034158             0.004815   \n",
       "std                   0.036839                0.181636             0.069223   \n",
       "min                   0.000000                0.000000             0.000000   \n",
       "25%                   0.000000                0.000000             0.000000   \n",
       "50%                   0.000000                0.000000             0.000000   \n",
       "75%                   0.000000                0.000000             0.000000   \n",
       "max                   1.000000                1.000000             1.000000   \n",
       "\n",
       "       customer_type_Transient  customer_type_Transient-Party  \n",
       "count            119210.000000                  119210.000000  \n",
       "mean                  0.750575                       0.210452  \n",
       "std                   0.432682                       0.407631  \n",
       "min                   0.000000                       0.000000  \n",
       "25%                   1.000000                       0.000000  \n",
       "50%                   1.000000                       0.000000  \n",
       "75%                   1.000000                       0.000000  \n",
       "max                   1.000000                       1.000000  \n",
       "\n",
       "[8 rows x 53 columns]"
      ]
     },
     "execution_count": 64,
     "metadata": {},
     "output_type": "execute_result"
    }
   ],
   "source": [
    "bookings.describe()"
   ]
  },
  {
   "cell_type": "code",
   "execution_count": 57,
   "metadata": {},
   "outputs": [
    {
     "data": {
      "text/plain": [
       "[Text(0, 0, '62.92%'), Text(0, 0, '37.08%')]"
      ]
     },
     "execution_count": 57,
     "metadata": {},
     "output_type": "execute_result"
    },
    {
     "data": {
      "image/png": "[encoded data removed]",
      "text/plain": [
       "<Figure size 640x480 with 1 Axes>"
      ]
     },
     "metadata": {},
     "output_type": "display_data"
    }
   ],
   "source": [
    "ax = bookings['is_canceled'].value_counts().plot(kind='bar')\n",
    "ax.bar_label(ax.containers[0], fmt=lambda x: f'{(x/len(bookings))*100:.2f} %')"
   ]
  },
  {
   "cell_type": "code",
   "execution_count": 46,
   "metadata": {},
   "outputs": [
    {
     "data": {
      "text/plain": [
       "<Axes: >"
      ]
     },
     "execution_count": 46,
     "metadata": {},
     "output_type": "execute_result"
    },
    {
     "data": {
      "image/png": "[encoded data removed]",
      "text/plain": [
       "<Figure size 640x480 with 1 Axes>"
      ]
     },
     "metadata": {},
     "output_type": "display_data"
    }
   ],
   "source": [
    "#bookings.corr()['is_canceled'].abs().sort_values(ascending=False).head(10)\n",
    "bookings[bookings.corr()['is_canceled'].abs().sort_values(ascending=False).head(10).index.to_list()].corrwith(bookings['is_canceled']).plot(kind='barh')\n"
   ]
  },
  {
   "cell_type": "code",
   "execution_count": 80,
   "metadata": {},
   "outputs": [
    {
     "name": "stdout",
     "output_type": "stream",
     "text": [
      " Count total NaN at each column in a DataFrame : \n",
      "\n",
      " is_canceled                       0\n",
      "lead_time                         0\n",
      "arrival_date_week_number          0\n",
      "arrival_date_day_of_month         0\n",
      "arrival_date_month                0\n",
      "stays_in_weekend_nights           0\n",
      "stays_in_week_nights              0\n",
      "adults                            0\n",
      "children                          4\n",
      "babies                            0\n",
      "is_repeated_guest                 0\n",
      "previous_cancellations            0\n",
      "previous_bookings_not_canceled    0\n",
      "required_car_parking_spaces       0\n",
      "total_of_special_requests         0\n",
      "avg_daily_rate                    0\n",
      "booked_by_company                 0\n",
      "booked_by_agent                   0\n",
      "hotel_City                        0\n",
      "hotel_Resort                      0\n",
      "meal_BB                           0\n",
      "meal_FB                           0\n",
      "meal_HB                           0\n",
      "meal_No_meal                      0\n",
      "market_segment_Aviation           0\n",
      "market_segment_Complementary      0\n",
      "market_segment_Corporate          0\n",
      "market_segment_Direct             0\n",
      "market_segment_Groups             0\n",
      "market_segment_Offline_TA_TO      0\n",
      "market_segment_Online_TA          0\n",
      "market_segment_Undefined          0\n",
      "distribution_channel_Corporate    0\n",
      "distribution_channel_Direct       0\n",
      "distribution_channel_GDS          0\n",
      "distribution_channel_TA_TO        0\n",
      "distribution_channel_Undefined    0\n",
      "reserved_room_type_A              0\n",
      "reserved_room_type_B              0\n",
      "reserved_room_type_C              0\n",
      "reserved_room_type_D              0\n",
      "reserved_room_type_E              0\n",
      "reserved_room_type_F              0\n",
      "reserved_room_type_G              0\n",
      "reserved_room_type_H              0\n",
      "reserved_room_type_L              0\n",
      "deposit_type_No_Deposit           0\n",
      "deposit_type_Non_Refund           0\n",
      "deposit_type_Refundable           0\n",
      "customer_type_Contract            0\n",
      "customer_type_Group               0\n",
      "customer_type_Transient           0\n",
      "customer_type_Transient-Party     0\n",
      "dtype: int64\n"
     ]
    }
   ],
   "source": [
    "print(\" Count total NaN at each column in the dataset : \\n\\n\",bookings.isnull().sum()) "
   ]
  },
  {
   "cell_type": "code",
   "execution_count": null,
   "metadata": {},
   "outputs": [],
   "source": [
    "print(bookings.avg_daily_rate.describe())\n",
    "#print(f'Count of daily rate < 0: {sum(np.array(bookings.avg_daily_rate)<0)}')\n",
    "#print(f'at index: {np.where(bookings.avg_daily_rate<0)[0]}')"
   ]
  },
  {
   "cell_type": "markdown",
   "metadata": {},
   "source": [
    "_____"
   ]
  },
  {
   "cell_type": "markdown",
   "metadata": {},
   "source": [
    "### Prepare data for training"
   ]
  },
  {
   "cell_type": "code",
   "execution_count": 89,
   "metadata": {},
   "outputs": [],
   "source": [
    "scaler = MinMaxScaler()\n",
    "bookings_scaled = scaler.fit_transform(bookings)\n",
    "bookings_scaled = pd.DataFrame(bookings_scaled, columns=bookings.columns)\n",
    "bookings_scaled.describe()"
   ]
  },
  {
   "cell_type": "code",
   "execution_count": 186,
   "metadata": {},
   "outputs": [],
   "source": [
    "X, y = bookings_scaled.iloc[:,1:], bookings.iloc[:,0]\n",
    "# Train and test split using sklearn\n",
    "X_train, X_test, y_train, y_test= train_test_split(X, y, test_size=.33, random_state=123)"
   ]
  },
  {
   "cell_type": "markdown",
   "metadata": {},
   "source": [
    "### Initiate the model"
   ]
  },
  {
   "cell_type": "code",
   "execution_count": 189,
   "metadata": {},
   "outputs": [],
   "source": [
    "xgb_clf = xgb.XGBClassifier(random_state=123)"
   ]
  },
  {
   "cell_type": "code",
   "execution_count": 98,
   "metadata": {},
   "outputs": [
    {
     "data": {
      "text/plain": [
       "{'objective': 'binary:logistic',\n",
       " 'base_score': None,\n",
       " 'booster': None,\n",
       " 'callbacks': None,\n",
       " 'colsample_bylevel': None,\n",
       " 'colsample_bynode': None,\n",
       " 'colsample_bytree': None,\n",
       " 'device': None,\n",
       " 'early_stopping_rounds': None,\n",
       " 'enable_categorical': False,\n",
       " 'eval_metric': None,\n",
       " 'feature_types': None,\n",
       " 'gamma': None,\n",
       " 'grow_policy': None,\n",
       " 'importance_type': None,\n",
       " 'interaction_constraints': None,\n",
       " 'learning_rate': None,\n",
       " 'max_bin': None,\n",
       " 'max_cat_threshold': None,\n",
       " 'max_cat_to_onehot': None,\n",
       " 'max_delta_step': None,\n",
       " 'max_depth': None,\n",
       " 'max_leaves': None,\n",
       " 'min_child_weight': None,\n",
       " 'missing': nan,\n",
       " 'monotone_constraints': None,\n",
       " 'multi_strategy': None,\n",
       " 'n_estimators': None,\n",
       " 'n_jobs': None,\n",
       " 'num_parallel_tree': None,\n",
       " 'random_state': 123,\n",
       " 'reg_alpha': None,\n",
       " 'reg_lambda': None,\n",
       " 'sampling_method': None,\n",
       " 'scale_pos_weight': None,\n",
       " 'subsample': None,\n",
       " 'tree_method': None,\n",
       " 'validate_parameters': None,\n",
       " 'verbosity': None}"
      ]
     },
     "execution_count": 98,
     "metadata": {},
     "output_type": "execute_result"
    }
   ],
   "source": [
    "xgb_clf.get_params()"
   ]
  },
  {
   "cell_type": "markdown",
   "metadata": {},
   "source": [
    "**booster** - the weak learner in this model. gbtree is the default.\\\n",
    "**objective function (loss function)** - how far off a prediction is from the actual results. binary:logistic is the default for classifiers.\\\n",
    "**n_estimators** - the number of gradient boosted trees/number of boosting rounds.\\\n",
    "**max_depth** - is the maximum tree depth allowed. Default is 6\n",
    "\n",
    "List of all parameters [here](https://xgboost.readthedocs.io/en/stable/parameter.html)"
   ]
  },
  {
   "cell_type": "code",
   "execution_count": 163,
   "metadata": {},
   "outputs": [],
   "source": [
    "# Fit it to the training set\n",
    "xgb_clf.fit(X_train, y_train)\n",
    "\n",
    "# Predict the labels of the test set\n",
    "preds = xgb_clf.predict(X_test)"
   ]
  },
  {
   "cell_type": "code",
   "execution_count": 164,
   "metadata": {},
   "outputs": [
    {
     "name": "stdout",
     "output_type": "stream",
     "text": [
      "Baseline accuracy: 83.91%\n"
     ]
    }
   ],
   "source": [
    "# Calculate the accuracy\n",
    "accuracy = float(np.sum(preds==y_test))/y_test.shape[0]\n",
    "\n",
    "# Print the baseline accuracy\n",
    "print(f'Baseline accuracy: {accuracy*100:.2f}%')"
   ]
  },
  {
   "cell_type": "code",
   "execution_count": 108,
   "metadata": {},
   "outputs": [],
   "source": [
    "def display_scores(scores):\n",
    "    print(\"Scores: {0}\\nMean: {1:.3f}\\nStd: {2:.3f}\".format(scores, np.mean(scores), np.std(scores)))"
   ]
  },
  {
   "cell_type": "code",
   "execution_count": 155,
   "metadata": {},
   "outputs": [],
   "source": [
    "kfold = KFold(n_splits=5, shuffle=True, random_state=42)\n",
    "\n",
    "scores_kfold = []\n",
    "\n",
    "for train_index, test_index in kfold.split(X):   \n",
    "    X_train, X_test = X.iloc[train_index,:], X.iloc[test_index,:]\n",
    "    y_train, y_test = y.iloc[train_index], y.iloc[test_index]\n",
    "\n",
    "    xgb_model = xgb.XGBClassifier()\n",
    "    xgb_model.fit(X_train, y_train)\n",
    "    \n",
    "    y_pred = xgb_model.predict(X_test)\n",
    "    \n",
    "    scores_kfold.append(float(np.sum(y_pred==y_test))/y_test.shape[0])"
   ]
  },
  {
   "cell_type": "code",
   "execution_count": 160,
   "metadata": {},
   "outputs": [],
   "source": [
    "#cv = ShuffleSplit(n_splits=5, test_size=0.3, random_state=0)\n",
    "scores_cv = cross_val_score(xgb_clf, X, y, scoring=\"accuracy\", cv=5) # cv"
   ]
  },
  {
   "cell_type": "code",
   "execution_count": 162,
   "metadata": {},
   "outputs": [
    {
     "name": "stdout",
     "output_type": "stream",
     "text": [
      "Scores: [0.8403237983390656, 0.8419595671504069, 0.8401560271789279, 0.8417917959902693, 0.8391494002181025]\n",
      "Mean: 0.841\n",
      "Std: 0.001\n"
     ]
    }
   ],
   "source": [
    "display_scores(scores_kfold)\n",
    "#display_scores(scores_cv)"
   ]
  },
  {
   "cell_type": "markdown",
   "metadata": {},
   "source": [
    "*Note on cross validation folds:*\n",
    "\n",
    ">**cross_val_score** will use a StratifiedKFold cv iterator when not specified otherwise. A StratifiedKFold will keep the *<u>ratio of classes balanced</u>* the same way in train and test split. On the other hand, in your first approach you are using **KFold** which will *<u>not keep the balance of classes.</u>* In addition you are doing shuffling of data in that. So in each fold, there is data difference in your two approaches and hence different results.\n",
    "\n",
    "*read this [tread](https://stackoverflow.com/questions/52242492/difference-between-cross-val-score-and-another-way-of-calculating-accuracy) for more info.*"
   ]
  },
  {
   "cell_type": "markdown",
   "metadata": {},
   "source": [
    "### Plotting feature importance"
   ]
  },
  {
   "cell_type": "code",
   "execution_count": 105,
   "metadata": {},
   "outputs": [
    {
     "data": {
      "text/plain": [
       "<Axes: title={'center': 'Feature importance'}, xlabel='F score', ylabel='Features'>"
      ]
     },
     "execution_count": 105,
     "metadata": {},
     "output_type": "execute_result"
    },
    {
     "data": {
      "image/png": "[encoded data removed]",
      "text/plain": [
       "<Figure size 640x480 with 1 Axes>"
      ]
     },
     "metadata": {},
     "output_type": "display_data"
    }
   ],
   "source": [
    "xgb.plot_importance(xgb_clf,max_num_features=10, importance_type=\"weight\")"
   ]
  },
  {
   "cell_type": "markdown",
   "metadata": {},
   "source": [
    "The ordering of features differs quite a bit between gain and weight. This implies that \n",
    "1. feature importance can be subjective, and \n",
    "2. the number of appearances a feature has on a tree is not necessarily correlated to how much gain it brings. For example, a binary variable has less of a chance to appear as many times as a continuous variable on a tree, since there are only two outputs. However, it can still be a powerful feature.\n",
    "\n",
    "From the documentation:\n",
    ">How the importance is calculated: either “weight”, “gain”, or “cover”:\n",
    ">* ”weight” is the number of times a feature appears in a tree\n",
    ">* ”gain” is the average gain of splits which use the feature\n",
    ">* ”cover” is the average coverage of splits which use the feature where coverage is defined as the number of samples affected by the split"
   ]
  },
  {
   "cell_type": "markdown",
   "metadata": {},
   "source": [
    "***"
   ]
  },
  {
   "cell_type": "markdown",
   "metadata": {},
   "source": [
    "### Parameters of XG boost"
   ]
  },
  {
   "cell_type": "markdown",
   "metadata": {},
   "source": [
    "**N estimates** - Number of boostings/trees\n",
    "\n",
    "<img src=https://camo.githubusercontent.com/24205a4a34dc957b0f57294bda549f4400e51f1811cda183832f41bc54575b30/68747470733a2f2f6769746875622e636f6d2f6461746163616d702f4d616368696e652d4c6561726e696e672d576974682d5847626f6f73742d6c6976652d747261696e696e672f626c6f622f6d61737465722f6173736574732f6e5f657374696d61746f72732e706e673f7261773d74727565 width=400>"
   ]
  },
  {
   "cell_type": "code",
   "execution_count": 172,
   "metadata": {},
   "outputs": [
    {
     "name": "stdout",
     "output_type": "stream",
     "text": [
      "Accuracy with N boosting trees = 30: 85.01%\n"
     ]
    }
   ],
   "source": [
    "## Set number of trees/boostings to be 30\n",
    "xgb_clf.set_params(n_estimators=10)\n",
    "\n",
    "xgb_clf.fit(X_train, y_train)\n",
    "preds = xgb_clf.predict(X_test)\n",
    "print(f'Accuracy with N boosting trees = 30: {accuracy_score(y_test, preds)*100:.5f}%')"
   ]
  },
  {
   "cell_type": "markdown",
   "metadata": {},
   "source": [
    "**Max depth** - Increasing this value will make the model more complex and more likely to overfit.\n",
    "\n",
    "<img src=https://camo.githubusercontent.com/4a3acd81d8ce64acb90822870180fff8fa491c83b4f309e1fa5503a55634b9dd/68747470733a2f2f6769746875622e636f6d2f6461746163616d702f4d616368696e652d4c6561726e696e672d576974682d5847626f6f73742d6c6976652d747261696e696e672f626c6f622f6d61737465722f6173736574732f6d61785f64657074682e706e673f7261773d74727565 width=300>"
   ]
  },
  {
   "cell_type": "code",
   "execution_count": 173,
   "metadata": {},
   "outputs": [
    {
     "name": "stdout",
     "output_type": "stream",
     "text": [
      "Accuracy with Max depth = 10: 85.01%\n"
     ]
    }
   ],
   "source": [
    "# Set max_depth to 10\n",
    "xgb_clf.set_params(max_depth=20)\n",
    "\n",
    "xgb_clf.fit(X_train, y_train)\n",
    "preds = xgb_clf.predict(X_test)\n",
    "print(f'Accuracy with Max depth = 10: {accuracy_score(y_test, preds)*100:.5f}%')"
   ]
  },
  {
   "cell_type": "markdown",
   "metadata": {},
   "source": [
    "**Gamma** - represents the minimum loss reduction required for a node to split. This decides whether a node will split based on the expected loss reduction loss after the split. The larger gamma is, the more conservative the algorithm will be.\n",
    "\n",
    "<img src=https://camo.githubusercontent.com/97a598939233fc5cbfb563f3984a33df66e9d504cd3abf16001c01246c76539a/68747470733a2f2f6769746875622e636f6d2f6461746163616d702f4d616368696e652d4c6561726e696e672d576974682d5847626f6f73742d6c6976652d747261696e696e672f626c6f622f6d61737465722f6173736574732f67616d6d612e706e673f7261773d74727565 width=300>"
   ]
  },
  {
   "cell_type": "code",
   "execution_count": 174,
   "metadata": {},
   "outputs": [
    {
     "name": "stdout",
     "output_type": "stream",
     "text": [
      "Accuracy with Gamma = .25: 85.03%\n"
     ]
    }
   ],
   "source": [
    "# Set gamma to .25 \n",
    "xgb_clf.set_params(gamma=0.25)\n",
    "\n",
    "xgb_clf.fit(X_train, y_train)\n",
    "preds = xgb_clf.predict(X_test)\n",
    "print(f'Accuracy with Gamma = .25: {accuracy_score(y_test, preds)*100:.5f}%')"
   ]
  },
  {
   "cell_type": "markdown",
   "metadata": {},
   "source": [
    "**Learning rate** -  shrinking the resulting weights of the current tree before passing them on to the next tree. \\\n",
    "*Note: The learning rate and the number of trees should be tuned together. If we decrease the learning rate, we need to make sure we have enough trees to learn something and avoid severely underfitting. Therefore, a low learning will require more boosting rounds.*"
   ]
  },
  {
   "cell_type": "code",
   "execution_count": 179,
   "metadata": {},
   "outputs": [
    {
     "name": "stdout",
     "output_type": "stream",
     "text": [
      "Accuracy with LR = .3: 85.03062%\n"
     ]
    }
   ],
   "source": [
    "# Set learning rate to 0.3\n",
    "xgb_clf.set_params(learning_rate=0.3)\n",
    "\n",
    "xgb_clf.fit(X_train, y_train)\n",
    "preds = xgb_clf.predict(X_test)\n",
    "print(f'Accuracy with LR = .3: {accuracy_score(y_test, preds)*100:.5f}%')"
   ]
  },
  {
   "cell_type": "markdown",
   "metadata": {},
   "source": [
    "**Early stopping**"
   ]
  },
  {
   "cell_type": "code",
   "execution_count": 212,
   "metadata": {},
   "outputs": [
    {
     "name": "stdout",
     "output_type": "stream",
     "text": [
      "[0]\tvalidation_0-logloss:0.55611\tvalidation_1-logloss:0.55634\n",
      "[1]\tvalidation_0-logloss:0.50246\tvalidation_1-logloss:0.50342\n",
      "[2]\tvalidation_0-logloss:0.47101\tvalidation_1-logloss:0.47218\n",
      "[3]\tvalidation_0-logloss:0.45061\tvalidation_1-logloss:0.45202\n",
      "[4]\tvalidation_0-logloss:0.43589\tvalidation_1-logloss:0.43759\n",
      "[5]\tvalidation_0-logloss:0.42531\tvalidation_1-logloss:0.42735\n",
      "[6]\tvalidation_0-logloss:0.41685\tvalidation_1-logloss:0.41930\n",
      "[7]\tvalidation_0-logloss:0.41169\tvalidation_1-logloss:0.41431\n",
      "[8]\tvalidation_0-logloss:0.40755\tvalidation_1-logloss:0.41031\n",
      "[9]\tvalidation_0-logloss:0.40382\tvalidation_1-logloss:0.40668\n",
      "[10]\tvalidation_0-logloss:0.39968\tvalidation_1-logloss:0.40289\n",
      "[11]\tvalidation_0-logloss:0.39779\tvalidation_1-logloss:0.40135\n",
      "[12]\tvalidation_0-logloss:0.39630\tvalidation_1-logloss:0.40002\n",
      "[13]\tvalidation_0-logloss:0.39271\tvalidation_1-logloss:0.39653\n",
      "[14]\tvalidation_0-logloss:0.39031\tvalidation_1-logloss:0.39443\n",
      "[15]\tvalidation_0-logloss:0.38937\tvalidation_1-logloss:0.39356\n",
      "[16]\tvalidation_0-logloss:0.38749\tvalidation_1-logloss:0.39212\n",
      "[17]\tvalidation_0-logloss:0.38669\tvalidation_1-logloss:0.39139\n",
      "[18]\tvalidation_0-logloss:0.38221\tvalidation_1-logloss:0.38784\n",
      "[19]\tvalidation_0-logloss:0.37920\tvalidation_1-logloss:0.38535\n",
      "[20]\tvalidation_0-logloss:0.37757\tvalidation_1-logloss:0.38455\n",
      "[21]\tvalidation_0-logloss:0.37639\tvalidation_1-logloss:0.38378\n",
      "[22]\tvalidation_0-logloss:0.37571\tvalidation_1-logloss:0.38328\n",
      "[23]\tvalidation_0-logloss:0.37315\tvalidation_1-logloss:0.38124\n",
      "[24]\tvalidation_0-logloss:0.37231\tvalidation_1-logloss:0.38077\n",
      "[25]\tvalidation_0-logloss:0.37086\tvalidation_1-logloss:0.37960\n",
      "[26]\tvalidation_0-logloss:0.37009\tvalidation_1-logloss:0.37902\n",
      "[27]\tvalidation_0-logloss:0.36909\tvalidation_1-logloss:0.37855\n",
      "[28]\tvalidation_0-logloss:0.36754\tvalidation_1-logloss:0.37778\n",
      "[29]\tvalidation_0-logloss:0.36727\tvalidation_1-logloss:0.37765\n",
      "[30]\tvalidation_0-logloss:0.36682\tvalidation_1-logloss:0.37736\n",
      "[31]\tvalidation_0-logloss:0.36514\tvalidation_1-logloss:0.37632\n",
      "[32]\tvalidation_0-logloss:0.36252\tvalidation_1-logloss:0.37453\n",
      "[33]\tvalidation_0-logloss:0.36193\tvalidation_1-logloss:0.37423\n",
      "[34]\tvalidation_0-logloss:0.36098\tvalidation_1-logloss:0.37377\n",
      "[35]\tvalidation_0-logloss:0.36010\tvalidation_1-logloss:0.37310\n",
      "[36]\tvalidation_0-logloss:0.35975\tvalidation_1-logloss:0.37299\n",
      "[37]\tvalidation_0-logloss:0.35858\tvalidation_1-logloss:0.37242\n",
      "[38]\tvalidation_0-logloss:0.35731\tvalidation_1-logloss:0.37197\n",
      "[39]\tvalidation_0-logloss:0.35618\tvalidation_1-logloss:0.37132\n",
      "Accuracy with early stopping: 82.61566%\n"
     ]
    }
   ],
   "source": [
    "## Increase the number of trees/boostings to be 40 and set early stopping\n",
    "xgb_clf.set_params(n_estimators=40, early_stopping_rounds=5)\n",
    "\n",
    "xgb_clf.fit(X_train, y_train, eval_set=[(X_train, y_train), (X_test, y_test)])\n",
    "preds = xgb_clf.predict(X_test)\n",
    "print(f'Accuracy with early stopping: {accuracy_score(y_test, preds)*100:.5f}%')"
   ]
  },
  {
   "cell_type": "code",
   "execution_count": 213,
   "metadata": {},
   "outputs": [
    {
     "data": {
      "text/plain": [
       "<matplotlib.legend.Legend at 0x30b48d060>"
      ]
     },
     "execution_count": 213,
     "metadata": {},
     "output_type": "execute_result"
    },
    {
     "data": {
      "image/png": "[encoded data removed]",
      "text/plain": [
       "<Figure size 1000x700 with 1 Axes>"
      ]
     },
     "metadata": {},
     "output_type": "display_data"
    }
   ],
   "source": [
    "results = xgb_clf.evals_result()\n",
    "\n",
    "plt.figure(figsize=(10,7))\n",
    "plt.plot(results[\"validation_0\"][\"logloss\"], label=\"Training loss\")\n",
    "plt.plot(results[\"validation_1\"][\"logloss\"], label=\"Validation loss\")\n",
    "plt.axvline(21, color=\"gray\", label=\"Optimal tree number\")\n",
    "plt.xlabel(\"Number of trees\")\n",
    "plt.ylabel(\"Loss\")\n",
    "plt.legend()"
   ]
  },
  {
   "cell_type": "code",
   "execution_count": 214,
   "metadata": {},
   "outputs": [
    {
     "data": {
      "text/plain": [
       "39"
      ]
     },
     "execution_count": 214,
     "metadata": {},
     "output_type": "execute_result"
    }
   ],
   "source": [
    "xgb_clf.best_iteration"
   ]
  },
  {
   "cell_type": "markdown",
   "metadata": {},
   "source": [
    "***"
   ]
  },
  {
   "cell_type": "markdown",
   "metadata": {},
   "source": [
    "### Hyperparamter tuning using Scikit-learn API\n",
    "\n",
    "**Grid search vs Random Search** - depending on the size of your hyperparameter space. Grid search over the entire space, while random uses a fixed number of settings sampled from a the space.\n",
    "\n",
    "<img src=https://camo.githubusercontent.com/cd18cac9ba3539d1d33593b95f1495cb6c2c1a756a80b6d24fe2ea6f4758cbb6/68747470733a2f2f6769746875622e636f6d2f6461746163616d702f4d616368696e652d4c6561726e696e672d576974682d5847626f6f73742d6c6976652d747261696e696e672f626c6f622f6d61737465722f6173736574732f72616e646f6d697a65645f7365617263685f312e6769663f7261773d74727565 width=300>"
   ]
  },
  {
   "cell_type": "code",
   "execution_count": 180,
   "metadata": {},
   "outputs": [],
   "source": [
    "# Define a parameter grid\n",
    "rs_param_grid = {\n",
    "    'max_depth': list((range(3,12))),\n",
    "    'alpha': [0,0.001, 0.01,0.1,1],\n",
    "    'subsample': [0.5,0.75,1],\n",
    "    'learning_rate': np.linspace(0.01,0.5, 10),\n",
    "    'n_estimators': [10, 25, 40]\n",
    "    }"
   ]
  },
  {
   "cell_type": "code",
   "execution_count": 183,
   "metadata": {},
   "outputs": [
    {
     "name": "stdout",
     "output_type": "stream",
     "text": [
      "Fitting 3 folds for each of 5 candidates, totalling 15 fits\n",
      "[CV] END alpha=1, learning_rate=0.22777777777777777, max_depth=5, n_estimators=10, subsample=0.5; total time=   0.1s\n",
      "[CV] END alpha=1, learning_rate=0.22777777777777777, max_depth=5, n_estimators=10, subsample=0.5; total time=   0.1s\n",
      "[CV] END alpha=1, learning_rate=0.22777777777777777, max_depth=5, n_estimators=10, subsample=0.5; total time=   0.1s\n",
      "[CV] END alpha=1, learning_rate=0.11888888888888888, max_depth=6, n_estimators=40, subsample=1; total time=   0.2s\n",
      "[CV] END alpha=1, learning_rate=0.11888888888888888, max_depth=6, n_estimators=40, subsample=1; total time=   0.2s\n",
      "[CV] END alpha=1, learning_rate=0.11888888888888888, max_depth=6, n_estimators=40, subsample=1; total time=   0.2s\n",
      "[CV] END alpha=1, learning_rate=0.11888888888888888, max_depth=8, n_estimators=40, subsample=0.75; total time=   0.2s\n",
      "[CV] END alpha=1, learning_rate=0.11888888888888888, max_depth=8, n_estimators=40, subsample=0.75; total time=   0.2s\n",
      "[CV] END alpha=1, learning_rate=0.11888888888888888, max_depth=8, n_estimators=40, subsample=0.75; total time=   0.2s\n",
      "[CV] END alpha=0.001, learning_rate=0.33666666666666667, max_depth=8, n_estimators=25, subsample=1; total time=   0.2s\n",
      "[CV] END alpha=0.001, learning_rate=0.33666666666666667, max_depth=8, n_estimators=25, subsample=1; total time=   0.2s\n",
      "[CV] END alpha=0.001, learning_rate=0.33666666666666667, max_depth=8, n_estimators=25, subsample=1; total time=   0.2s\n",
      "[CV] END alpha=0.001, learning_rate=0.17333333333333334, max_depth=10, n_estimators=40, subsample=0.5; total time=   0.2s\n",
      "[CV] END alpha=0.001, learning_rate=0.17333333333333334, max_depth=10, n_estimators=40, subsample=0.5; total time=   0.2s\n",
      "[CV] END alpha=0.001, learning_rate=0.17333333333333334, max_depth=10, n_estimators=40, subsample=0.5; total time=   0.2s\n",
      "Best parameters found:  {'subsample': 0.5, 'n_estimators': 40, 'max_depth': 10, 'learning_rate': 0.17333333333333334, 'alpha': 0.001}\n",
      "Best accuracy found:  0.8337548332412054\n"
     ]
    }
   ],
   "source": [
    "# Insantiate a new XGBoost Clasifier \n",
    "xgb_clf = xgb.XGBClassifier(random_state=123)\n",
    "\n",
    "# Instantiate RandomizedSearchCV()\n",
    "xgb_rs = RandomizedSearchCV(estimator=xgb_clf,param_distributions=rs_param_grid, \n",
    "                                cv=3, n_iter=5, verbose=2, random_state=123)\n",
    "\n",
    "xgb_rs.fit(X_train, y_train)\n",
    "print(\"Best parameters found: \", xgb_rs.best_params_)\n",
    "print(\"Best accuracy found: \", xgb_rs.best_score_)"
   ]
  },
  {
   "cell_type": "code",
   "execution_count": null,
   "metadata": {},
   "outputs": [],
   "source": []
  }
 ],
 "metadata": {
  "kernelspec": {
   "display_name": "base",
   "language": "python",
   "name": "python3"
  },
  "language_info": {
   "codemirror_mode": {
    "name": "ipython",
    "version": 3
   },
   "file_extension": ".py",
   "mimetype": "text/x-python",
   "name": "python",
   "nbconvert_exporter": "python",
   "pygments_lexer": "ipython3",
   "version": "3.10.12"
  }
 },
 "nbformat": 4,
 "nbformat_minor": 2
}
