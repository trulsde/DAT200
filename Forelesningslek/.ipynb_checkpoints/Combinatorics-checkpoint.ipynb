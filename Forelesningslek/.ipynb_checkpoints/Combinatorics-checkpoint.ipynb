{
 "cells": [
  {
   "cell_type": "markdown",
   "metadata": {},
   "source": [
    "## Proof majority voting"
   ]
  },
  {
   "cell_type": "code",
   "execution_count": 3,
   "metadata": {},
   "outputs": [],
   "source": [
    "from scipy.special import comb\n",
    "import math\n",
    "import numpy as np\n",
    "import matplotlib.pyplot as plt"
   ]
  },
  {
   "cell_type": "markdown",
   "metadata": {},
   "source": [
    "### Error rate of majority voting\n",
    "The probability of the majority of the classifiers classifying wrong using the binomial distribution"
   ]
  },
  {
   "cell_type": "code",
   "execution_count": 6,
   "metadata": {},
   "outputs": [],
   "source": [
    "def ensemble_error(n_classifier, error):\n",
    "    # n_classifiers: number of base classifiers\n",
    "    # error: error rate per classifier\n",
    "\n",
    "    k_start = math.ceil(n_classifier / 2.) # We have a majority of errors for k_start or more\n",
    "\n",
    "    probs = [comb(n_classifier, k) * error**k * (1-error)**(n_classifier - k) # Binomial distribution\n",
    "             for k in range(k_start, n_classifier + 1)]\n",
    "    \n",
    "    return sum(probs) # Cummulative probability from k_start"
   ]
  },
  {
   "cell_type": "code",
   "execution_count": null,
   "metadata": {},
   "outputs": [],
   "source": [
    "ensemble_error(n_classifier=11, error=0.3)"
   ]
  },
  {
   "cell_type": "markdown",
   "metadata": {},
   "source": [
    "### Effect of error-rate\n",
    "Visualize the relationship between ensemble and range (0,1) of base errors in a line graph"
   ]
  },
  {
   "cell_type": "code",
   "execution_count": null,
   "metadata": {},
   "outputs": [],
   "source": [
    "error_range = np.arange(0.0, 1.01, 0.01) \n",
    "ens_errors = [ensemble_error(n_classifier=3, error=error) for error in error_range]\n",
    "\n",
    "# Ensamble models\n",
    "plt.plot(error_range, ens_errors, label='Ensemble error', linewidth=2)\n",
    "# Single CLS\n",
    "plt.plot(error_range, error_range, linestyle='--', label='Base error', linewidth=2)\n",
    "\n",
    "plt.plot([0.5, 0.5], [0, 1], linestyle=':', label='Break even', linewidth=1.5)\n",
    "plt.xlabel('Base error')\n",
    "plt.ylabel('Base/Ensemble error')\n",
    "plt.legend(loc='upper left')\n",
    "plt.grid(alpha=0.5)\n",
    "plt.show()"
   ]
  }
 ],
 "metadata": {
  "kernelspec": {
   "display_name": "base",
   "language": "python",
   "name": "python3"
  },
  "language_info": {
   "codemirror_mode": {
    "name": "ipython",
    "version": 3
   },
   "file_extension": ".py",
   "mimetype": "text/x-python",
   "name": "python",
   "nbconvert_exporter": "python",
   "pygments_lexer": "ipython3",
   "version": "3.10.12"
  }
 },
 "nbformat": 4,
 "nbformat_minor": 2
}
