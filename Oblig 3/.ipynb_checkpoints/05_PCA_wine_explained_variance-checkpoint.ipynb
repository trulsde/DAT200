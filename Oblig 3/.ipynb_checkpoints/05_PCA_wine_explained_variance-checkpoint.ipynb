{
 "cells": [
  {
   "cell_type": "markdown",
   "metadata": {},
   "source": [
    "# PCA on the wine dataset using sklearn"
   ]
  },
  {
   "cell_type": "code",
   "execution_count": null,
   "metadata": {},
   "outputs": [],
   "source": [
    "import numpy as np\n",
    "import matplotlib.pyplot as plt\n",
    "from sklearn.decomposition import PCA\n",
    "from sklearn.preprocessing import StandardScaler\n",
    "from sklearn import datasets\n",
    "\n",
    "# Load the wine dataset\n",
    "X, y = datasets.load_wine(return_X_y=True)\n",
    "\n",
    "# Standardize the data\n",
    "scaler = StandardScaler()\n",
    "X = scaler.fit_transform(X)\n",
    "\n",
    "# Perform PCA\n",
    "pca = PCA(n_components=None)\n",
    "X_pca = pca.fit_transform(X)\n",
    "\n",
    "# Plot the first two principal components\n",
    "plt.scatter(X_pca[:, 0], X_pca[:, 1], c=y, cmap='Paired_r')\n",
    "plt.xlabel('PC1')\n",
    "plt.ylabel('PC2')\n",
    "plt.title('First Two Principal Components of Wine Dataset')\n",
    "plt.show()\n"
   ]
  },
  {
   "cell_type": "markdown",
   "metadata": {},
   "source": [
    "# Explained variance ratio\n",
    "\n",
    "The mathematical definition of the explained variance ratio is the fraction of the dataset's total variance that is captured by the principal components. The explained variance ratio is given by the ratio of eigenvalues of the covariance matrix to the sum of all eigenvalues.\n",
    "\n",
    "$$\\frac{\\lambda_i}{\\sum_{i=1}^{k} \\lambda_i}$$\n",
    "\n",
    "where $\\lambda_i$ is the $i^{th}$ eigenvalue of the covariance matrix and $k$ is the number of principal components."
   ]
  },
  {
   "cell_type": "code",
   "execution_count": null,
   "metadata": {},
   "outputs": [],
   "source": [
    "# Plot explained variance and cumulative sum of explained variance\n",
    "fig, ax1 = plt.subplots()\n",
    "ax2 = ax1.twinx()\n",
    "ax1.bar(np.arange(len(pca.explained_variance_ratio_)), pca.explained_variance_ratio_, alpha=0.7, color='orange')\n",
    "ax2.step(np.arange(len(pca.explained_variance_ratio_)), np.cumsum(pca.explained_variance_ratio_), c='#028571')\n",
    "ax1.set_xlabel('Principal Components')\n",
    "ax1.set_ylabel('Explained Variance Ratio', color='orange')\n",
    "ax2.set_ylabel('Cumulative Explained Variance Ratio', color='#028571')\n",
    "plt.title('explained variance ratios \\nand cumulative sum of ratios')\n",
    "plt.show()"
   ]
  },
  {
   "cell_type": "markdown",
   "metadata": {},
   "source": [
    "## Loadings for the first principal component"
   ]
  },
  {
   "cell_type": "markdown",
   "metadata": {},
   "source": [
    "The loadings for the first principal component (PC1) are the coefficients of the linear combination of the original variables that make up the first principal component. The loadings for PC1 are given by the eigenvector corresponding to the largest eigenvalue of the covariance matrix. This shows that PC1 is constructed as a weighted linear combination of the original variables. Here, we can inspect which original variables contribute most to the first principal component."
   ]
  },
  {
   "cell_type": "code",
   "execution_count": null,
   "metadata": {},
   "outputs": [],
   "source": [
    "# Computed the loadings of the first principal component\n",
    "loadings = pca.components_.T * np.sqrt(pca.explained_variance_)\n",
    "loadings_pc1 = loadings[:, 0]\n",
    "\n",
    "# Plot loadings in a bar plot\n",
    "fig, ax = plt.subplots()\n",
    "ax.barh(np.arange(len(loadings_pc1)), loadings_pc1)\n",
    "ax.set_xlabel('Loadings for PC1')\n",
    "plt.title('Loadings of the First Principal Component')\n",
    "plt.yticks(np.arange(len(loadings_pc1)), datasets.load_wine().feature_names)\n",
    "plt.show()\n"
   ]
  }
 ],
 "metadata": {
  "kernelspec": {
   "display_name": ".venv",
   "language": "python",
   "name": "python3"
  },
  "language_info": {
   "codemirror_mode": {
    "name": "ipython",
    "version": 3
   },
   "file_extension": ".py",
   "mimetype": "text/x-python",
   "name": "python",
   "nbconvert_exporter": "python",
   "pygments_lexer": "ipython3",
   "version": "3.9.6"
  }
 },
 "nbformat": 4,
 "nbformat_minor": 2
}
