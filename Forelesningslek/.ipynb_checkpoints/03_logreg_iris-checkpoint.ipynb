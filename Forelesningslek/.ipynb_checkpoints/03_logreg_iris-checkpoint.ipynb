{
 "cells": [
  {
   "cell_type": "code",
   "execution_count": null,
   "metadata": {},
   "outputs": [],
   "source": [
    "# ==============================================================================\n",
    "# Import modules\n",
    "# ==============================================================================\n",
    "\n",
    "import numpy as np\n",
    "from sklearn import datasets\n",
    "from sklearn.linear_model import LogisticRegression\n",
    "from sklearn.model_selection import train_test_split\n",
    "from sklearn.preprocessing import StandardScaler\n",
    "\n",
    "# ==============================================================================\n",
    "# Load data and select features Split into training and test data\n",
    "# ==============================================================================\n",
    "data = datasets.load_iris()\n",
    "X = data.data\n",
    "y = data.target\n",
    "print(data.feature_names)\n",
    "\n",
    "# Split data into training and test data (70% training, 30% test)\n",
    "X_train, X_test, y_train, y_test = train_test_split(X, y, test_size=0.3, random_state=1, stratify=y)\n",
    "\n",
    "# ==============================================================================\n",
    "# Scale features using StandardScaler class in scikit-learn\n",
    "# ==============================================================================\n",
    "\n",
    "# Initialise standard scaler and compute mean and STD from training data\n",
    "sc = StandardScaler()\n",
    "sc.fit(X_train)\n",
    "\n",
    "# Transform (standardise) both X_train and X_test with mean and stddev from\n",
    "# training data\n",
    "X_train_sc = sc.transform(X_train)\n",
    "X_test_sc = sc.transform(X_test)\n",
    "\n",
    "print(\"Mean of X_train_sc:\", np.mean(X_train_sc, axis=0))\n",
    "print(\"Stddev of X_train_sc:\", np.std(X_train_sc, axis=0))\n",
    "\n",
    "C = 100\n",
    "clf = LogisticRegression(max_iter=100, solver=\"liblinear\", multi_class=\"auto\", random_state=1, penalty=\"l2\", C=C)\n",
    "clf.fit(X_train_sc, y_train)\n",
    "\n",
    "y_pred = clf.predict(X_test_sc)\n",
    "print(\"Misclassified samples: {0}\".format((y_test != y_pred).sum()))\n",
    "\n",
    "train_score = clf.score(X_train_sc, y_train)\n",
    "test_score = clf.score(X_test_sc, y_test)\n",
    "print(\"Accuracy on the train set:\", train_score)\n",
    "print(\"Accuracy on the test set:\", test_score)"
   ]
  }
 ],
 "metadata": {
  "language_info": {
   "name": "python"
  }
 },
 "nbformat": 4,
 "nbformat_minor": 2
}
