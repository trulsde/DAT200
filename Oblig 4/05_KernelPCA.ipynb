{
 "cells": [
  {
   "cell_type": "markdown",
   "metadata": {},
   "source": [
    "# Linear PCA versus Kernel PCA"
   ]
  },
  {
   "cell_type": "code",
   "execution_count": null,
   "metadata": {},
   "outputs": [],
   "source": [
    "import numpy as np\n",
    "import matplotlib.pyplot as plt\n",
    "from sklearn.datasets import make_circles\n",
    "from sklearn.decomposition import KernelPCA, PCA\n",
    "\n",
    "# a function that simply returns its input as a coordinate tuple\n",
    "def identity_transform(X):\n",
    "    return X\n",
    "\n",
    "# plot grid lines as points so we can later show the deformation of feature space\n",
    "def plot_grid(xmin, xmax, ymin, ymax, transform=identity_transform, n=10, line_density=1000):\n",
    "    xxh, yyh = np.meshgrid(np.linspace(xmin, xmax, line_density), np.linspace(ymin, ymax, n))\n",
    "    xxv, yyv = np.meshgrid(np.linspace(xmin, xmax, n), np.linspace(ymin, ymax, line_density))\n",
    "    Z = np.vstack([\n",
    "        transform(np.c_[xxh.ravel(), yyh.ravel()]),\n",
    "        transform(np.c_[xxv.ravel(), yyv.ravel()])\n",
    "    ])\n",
    "    plt.scatter(Z[:, 0], Z[:, 1], s=1, c='black', alpha=0.1)"
   ]
  },
  {
   "cell_type": "code",
   "execution_count": null,
   "metadata": {},
   "outputs": [],
   "source": [
    "# Create a dataset with circle structure\n",
    "X, y = make_circles(n_samples=400, noise=0.1, random_state=42, factor=0.1)\n",
    "\n",
    "# Visualize the dataset\n",
    "plt.figure(figsize=(5, 5))\n",
    "plt.scatter(X[:, 0], X[:, 1], c=y)\n",
    "\n",
    "plot_grid(-2, 2, -2, 2)\n",
    "plt.legend()\n",
    "plt.show()\n"
   ]
  },
  {
   "cell_type": "code",
   "execution_count": null,
   "metadata": {},
   "outputs": [],
   "source": [
    "# Apply Linear PCA\n",
    "# add y as a feature to the dataset\n",
    "pca = PCA(n_components=2)\n",
    "X_pca = pca.fit_transform(X)\n",
    "\n",
    "# Visualize the transformed dataset\n",
    "plt.figure(figsize=(5, 5))\n",
    "plt.scatter(X_pca[:, 0], X_pca[:, 1], c=y)\n",
    "plot_grid(-2, 2, -2, 2, transform=pca.transform)\n",
    "plt.title(\"Linear PCA\")\n",
    "plt.xlabel(\"1st principal component\")\n",
    "plt.ylabel(\"2nd principal component\")\n",
    "plt.show()"
   ]
  },
  {
   "cell_type": "code",
   "execution_count": null,
   "metadata": {},
   "outputs": [],
   "source": [
    "# Apply Kernel PCA\n",
    "# add y as a feature to the dataset\n",
    "kpca = KernelPCA(kernel=\"rbf\", gamma=1, n_components=2)\n",
    "X_kpca = kpca.fit_transform(X)\n",
    "\n",
    "# Visualize the transformed dataset\n",
    "plt.figure(figsize=(5, 5))\n",
    "plt.scatter(X_kpca[:, 0], X_kpca[:, 1], c=y)\n",
    "plot_grid(-2, 2, -2, 2, transform=kpca.transform)\n",
    "plt.title(\"Kernel PCA\")\n",
    "plt.xlabel(\"1st principal component\")\n",
    "plt.ylabel(\"2nd principal component\")\n",
    "plt.show()"
   ]
  },
  {
   "cell_type": "markdown",
   "metadata": {},
   "source": [
    "# PCA and KernelPCA are unsupervised learning algorithms!\n",
    "\n",
    "It is important to note that PCA and KernelPCA are unsupervised learning algorithms, and therefore do not consider the class labels at all.\n",
    "In the following, we show that for a slightly modified version of the dataset, the KernelPCA algorithm is not able to separate the two classes anymore."
   ]
  },
  {
   "cell_type": "code",
   "execution_count": null,
   "metadata": {},
   "outputs": [],
   "source": [
    "# Create a dataset with 100 samples in circles\n",
    "fig, axes = plt.subplots(2, 3, figsize=(15, 10))\n",
    "\n",
    "for factor, ax in zip((0.1, 0.6), axes):\n",
    "    X, y = make_circles(n_samples=400, noise=0.1, random_state=42, factor=factor)\n",
    "\n",
    "    # Apply KernelPCA\n",
    "    kpca = KernelPCA(n_components=2, kernel=\"rbf\", gamma=1)\n",
    "    X_kpca = kpca.fit_transform(X)\n",
    "\n",
    "    # Plot the results\n",
    "    ax[0].scatter(X[:, 0], X[:, 1], c=y)\n",
    "    ax[0].set_title('Original Data with class labels')\n",
    "    ax[0].set_xlabel('Feature 1')\n",
    "    ax[0].set_ylabel('Feature 2')\n",
    "\n",
    "    ax[1].scatter(X[:, 0], X[:, 1])\n",
    "    ax[1].set_title('This is  what PCA/KernelPCA sees')\n",
    "    ax[1].set_xlabel('Feature 1')\n",
    "    ax[1].set_ylabel('Feature 2')\n",
    "\n",
    "    ax[2].scatter(X_kpca[:, 0], X_kpca[:, 1], c=y)\n",
    "    ax[2].set_title('Kernel PCA (with class labels)')\n",
    "    ax[2].set_xlabel('PC1')\n",
    "    ax[2].set_ylabel('PC2')\n",
    "\n",
    "fig.tight_layout()\n",
    "plt.show()\n"
   ]
  }
 ],
 "metadata": {
  "kernelspec": {
   "display_name": ".venv",
   "language": "python",
   "name": "python3"
  },
  "language_info": {
   "codemirror_mode": {
    "name": "ipython",
    "version": 3
   },
   "file_extension": ".py",
   "mimetype": "text/x-python",
   "name": "python",
   "nbconvert_exporter": "python",
   "pygments_lexer": "ipython3",
   "version": "3.9.6"
  }
 },
 "nbformat": 4,
 "nbformat_minor": 2
}
