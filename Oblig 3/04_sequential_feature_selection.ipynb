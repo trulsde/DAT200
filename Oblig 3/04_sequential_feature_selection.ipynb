{
 "cells": [
  {
   "cell_type": "code",
   "execution_count": 3,
   "metadata": {},
   "outputs": [],
   "source": [
    "# Use sequential feature selection to select the best features for the cancer dataset using k-nearest neighbors\n",
    "import numpy as np\n",
    "import matplotlib.pyplot as plt\n",
    "from sklearn.neighbors import KNeighborsClassifier\n",
    "from sklearn.feature_selection import SequentialFeatureSelector\n",
    "from sklearn.model_selection import train_test_split\n",
    "from sklearn.metrics import accuracy_score\n",
    "from sklearn.preprocessing import StandardScaler\n",
    "from sklearn import datasets"
   ]
  },
  {
   "cell_type": "code",
   "execution_count": 4,
   "metadata": {},
   "outputs": [
    {
     "name": "stdout",
     "output_type": "stream",
     "text": [
      "The accuracy of the k-NN classifier on the train/test set is 0.98/0.96\n",
      "\n",
      "Sequential feature selection...\n",
      "-- The 1 selected features are: ['mean concave points']\n",
      "  --> The accuracy of the k-NN classifier on the train/test set is 0.93/0.88\n",
      "-- The 2 selected features are: ['mean concave points' 'worst area']\n",
      "  --> The accuracy of the k-NN classifier on the train/test set is 0.95/0.93\n",
      "-- The 3 selected features are: ['mean concave points' 'worst texture' 'worst area']\n",
      "  --> The accuracy of the k-NN classifier on the train/test set is 0.97/0.96\n",
      "-- The 4 selected features are: ['mean concave points' 'worst texture' 'worst area'\n",
      " 'worst fractal dimension']\n",
      "  --> The accuracy of the k-NN classifier on the train/test set is 0.97/0.96\n",
      "-- The 5 selected features are: ['mean concavity' 'mean concave points' 'worst texture' 'worst area'\n",
      " 'worst fractal dimension']\n",
      "  --> The accuracy of the k-NN classifier on the train/test set is 0.98/0.96\n",
      "-- The 6 selected features are: ['mean concavity' 'mean concave points' 'fractal dimension error'\n",
      " 'worst texture' 'worst area' 'worst fractal dimension']\n",
      "  --> The accuracy of the k-NN classifier on the train/test set is 0.98/0.96\n",
      "-- The 7 selected features are: ['mean concavity' 'mean concave points' 'radius error'\n",
      " 'fractal dimension error' 'worst texture' 'worst area'\n",
      " 'worst fractal dimension']\n",
      "  --> The accuracy of the k-NN classifier on the train/test set is 0.98/0.97\n",
      "-- The 8 selected features are: ['mean concavity' 'mean concave points' 'radius error' 'area error'\n",
      " 'fractal dimension error' 'worst texture' 'worst area'\n",
      " 'worst fractal dimension']\n",
      "  --> The accuracy of the k-NN classifier on the train/test set is 0.98/0.97\n",
      "-- The 9 selected features are: ['mean concavity' 'mean concave points' 'radius error' 'perimeter error'\n",
      " 'area error' 'fractal dimension error' 'worst texture' 'worst area'\n",
      " 'worst fractal dimension']\n",
      "  --> The accuracy of the k-NN classifier on the train/test set is 0.98/0.97\n"
     ]
    }
   ],
   "source": [
    "# Load the cancer data set\n",
    "data = datasets.load_breast_cancer()\n",
    "X = data.data\n",
    "y = data.target\n",
    "\n",
    "# Split the data into a training and test set\n",
    "X_train, X_test, y_train, y_test = train_test_split(X, y, test_size=0.4, random_state=42)\n",
    "\n",
    "# Standardize the features\n",
    "scaler = StandardScaler()\n",
    "X_train_scaled = scaler.fit_transform(X_train)\n",
    "X_test_scaled = scaler.transform(X_test)\n",
    "\n",
    "# Create a k-NN classifier\n",
    "knn = KNeighborsClassifier(n_neighbors=5)\n",
    "# compute accuracy on the training set\n",
    "knn.fit(X_train_scaled, y_train)\n",
    "y_pred = knn.predict(X_test_scaled)\n",
    "y_pred_train = knn.predict(X_train_scaled)\n",
    "print(\n",
    "    \"The accuracy of the k-NN classifier on the train/test set is\"\n",
    "    f\" {accuracy_score(y_train, y_pred_train):.2f}/{accuracy_score(y_test, y_pred):.2f}\"\n",
    ")\n",
    "\n",
    "print(\"\\nSequential feature selection...\")\n",
    "for num_features in range(1, 10):\n",
    "    sfs = SequentialFeatureSelector(knn, n_features_to_select=num_features, direction=\"forward\", n_jobs=4)\n",
    "    sfs = sfs.fit(X_train_scaled, y_train)\n",
    "\n",
    "    # Print the selected features\n",
    "    feature_mask = sfs.get_support()\n",
    "    selected_features = np.array(data.feature_names)[feature_mask]\n",
    "    print(f\"-- The {num_features} selected features are:\", selected_features)\n",
    "\n",
    "    # Transform the data to include only the selected features\n",
    "    X_train_sfs = sfs.transform(X_train_scaled)\n",
    "    X_test_sfs = sfs.transform(X_test_scaled)\n",
    "\n",
    "    # Train the k-NN classifier on the selected features\n",
    "    knn.fit(X_train_sfs, y_train)\n",
    "    y_pred = knn.predict(X_test_sfs)\n",
    "    y_pred_train = knn.predict(X_train_sfs)\n",
    "    print(\n",
    "        \"  --> The accuracy of the k-NN classifier on the train/test set is\"\n",
    "        f\" {accuracy_score(y_train, y_pred_train):.2f}/{accuracy_score(y_test, y_pred):.2f}\"\n",
    "    )\n"
   ]
  }
 ],
 "metadata": {
  "kernelspec": {
   "display_name": "Python 3 (ipykernel)",
   "language": "python",
   "name": "python3"
  },
  "language_info": {
   "codemirror_mode": {
    "name": "ipython",
    "version": 3
   },
   "file_extension": ".py",
   "mimetype": "text/x-python",
   "name": "python",
   "nbconvert_exporter": "python",
   "pygments_lexer": "ipython3",
   "version": "3.10.8"
  }
 },
 "nbformat": 4,
 "nbformat_minor": 4
}
