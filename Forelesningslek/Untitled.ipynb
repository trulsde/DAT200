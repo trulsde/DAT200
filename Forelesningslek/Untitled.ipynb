{
 "cells": [
  {
   "cell_type": "markdown",
   "id": "42c27c9a-003f-4b80-88a2-a29744fd8bdf",
   "metadata": {},
   "source": [
    "## Grid search testing"
   ]
  },
  {
   "cell_type": "code",
   "execution_count": null,
   "id": "765f96e7-1480-4a34-aa89-d2b5d3f390dc",
   "metadata": {},
   "outputs": [],
   "source": []
  }
 ],
 "metadata": {
  "kernelspec": {
   "display_name": "Python 3 (ipykernel)",
   "language": "python",
   "name": "python3"
  },
  "language_info": {
   "codemirror_mode": {
    "name": "ipython",
    "version": 3
   },
   "file_extension": ".py",
   "mimetype": "text/x-python",
   "name": "python",
   "nbconvert_exporter": "python",
   "pygments_lexer": "ipython3",
   "version": "3.10.8"
  }
 },
 "nbformat": 4,
 "nbformat_minor": 5
}
