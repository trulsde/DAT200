{
 "cells": [
  {
   "cell_type": "code",
   "execution_count": 9,
   "metadata": {},
   "outputs": [
    {
     "data": {
      "text/html": [
       "<style type=\"text/css\">\n",
       "#T_5ab55_row0_col0, #T_5ab55_row0_col1, #T_5ab55_row0_col2, #T_5ab55_row0_col3 {\n",
       "  background-color: #f7fcf5;\n",
       "  color: #000000;\n",
       "}\n",
       "#T_5ab55_row1_col0, #T_5ab55_row1_col1 {\n",
       "  background-color: #88ce87;\n",
       "  color: #000000;\n",
       "}\n",
       "#T_5ab55_row1_col2, #T_5ab55_row2_col3 {\n",
       "  background-color: #000000;\n",
       "  color: #f1f1f1;\n",
       "  background-color: orange;\n",
       "}\n",
       "#T_5ab55_row1_col3, #T_5ab55_row2_col0, #T_5ab55_row2_col1, #T_5ab55_row2_col2 {\n",
       "  background-color: #00441b;\n",
       "  color: #f1f1f1;\n",
       "}\n",
       "</style>\n",
       "<table id=\"T_5ab55\">\n",
       "  <thead>\n",
       "    <tr>\n",
       "      <th class=\"blank level0\" >&nbsp;</th>\n",
       "      <th id=\"T_5ab55_level0_col0\" class=\"col_heading level0 col0\" >A</th>\n",
       "      <th id=\"T_5ab55_level0_col1\" class=\"col_heading level0 col1\" >B</th>\n",
       "      <th id=\"T_5ab55_level0_col2\" class=\"col_heading level0 col2\" >C</th>\n",
       "      <th id=\"T_5ab55_level0_col3\" class=\"col_heading level0 col3\" >D</th>\n",
       "    </tr>\n",
       "  </thead>\n",
       "  <tbody>\n",
       "    <tr>\n",
       "      <th id=\"T_5ab55_level0_row0\" class=\"row_heading level0 row0\" >0</th>\n",
       "      <td id=\"T_5ab55_row0_col0\" class=\"data row0 col0\" >1.00</td>\n",
       "      <td id=\"T_5ab55_row0_col1\" class=\"data row0 col1\" >2.00</td>\n",
       "      <td id=\"T_5ab55_row0_col2\" class=\"data row0 col2\" >3.00</td>\n",
       "      <td id=\"T_5ab55_row0_col3\" class=\"data row0 col3\" >4.00</td>\n",
       "    </tr>\n",
       "    <tr>\n",
       "      <th id=\"T_5ab55_level0_row1\" class=\"row_heading level0 row1\" >1</th>\n",
       "      <td id=\"T_5ab55_row1_col0\" class=\"data row1 col0\" >5.00</td>\n",
       "      <td id=\"T_5ab55_row1_col1\" class=\"data row1 col1\" >6.00</td>\n",
       "      <td id=\"T_5ab55_row1_col2\" class=\"data row1 col2\" >nan</td>\n",
       "      <td id=\"T_5ab55_row1_col3\" class=\"data row1 col3\" >8.00</td>\n",
       "    </tr>\n",
       "    <tr>\n",
       "      <th id=\"T_5ab55_level0_row2\" class=\"row_heading level0 row2\" >2</th>\n",
       "      <td id=\"T_5ab55_row2_col0\" class=\"data row2 col0\" >10.00</td>\n",
       "      <td id=\"T_5ab55_row2_col1\" class=\"data row2 col1\" >11.00</td>\n",
       "      <td id=\"T_5ab55_row2_col2\" class=\"data row2 col2\" >12.00</td>\n",
       "      <td id=\"T_5ab55_row2_col3\" class=\"data row2 col3\" >nan</td>\n",
       "    </tr>\n",
       "  </tbody>\n",
       "</table>\n"
      ],
      "text/plain": [
       "<pandas.io.formats.style.Styler at 0x1414871ac80>"
      ]
     },
     "execution_count": 9,
     "metadata": {},
     "output_type": "execute_result"
    }
   ],
   "source": [
    "import pandas as pd\n",
    "import numpy as np\n",
    "from io import StringIO\n",
    "\n",
    "# Create a small dataset to analyze\n",
    "\n",
    "csv_data = \"\"\"\n",
    "A,B,C,D\n",
    "1.0,2.0,3.0,4.0\n",
    "5.0,6.0,,8.0\n",
    "10.0,11.0,12.0,\n",
    "\"\"\"\n",
    "\n",
    "# read the CSV data into a pandas DataFrame\n",
    "df = pd.read_csv(StringIO(csv_data))\n",
    "\n",
    "# show the dataset\n",
    "def show_dataset(df):\n",
    "    return df.style.background_gradient(cmap='Greens').highlight_null('orange').format(\"{:.2f}\")\n",
    "\n",
    "show_dataset(df)"
   ]
  },
  {
   "cell_type": "markdown",
   "metadata": {},
   "source": [
    "# Removing missing values"
   ]
  },
  {
   "cell_type": "code",
   "execution_count": 3,
   "metadata": {},
   "outputs": [
    {
     "data": {
      "text/plain": [
       "A    0\n",
       "B    0\n",
       "C    1\n",
       "D    1\n",
       "dtype: int64"
      ]
     },
     "execution_count": 3,
     "metadata": {},
     "output_type": "execute_result"
    }
   ],
   "source": [
    "# =============================================================================\n",
    "# Identify columns containg missing values\n",
    "# =============================================================================\n",
    "df.isnull().sum()\n"
   ]
  },
  {
   "cell_type": "code",
   "execution_count": 4,
   "metadata": {},
   "outputs": [
    {
     "name": "stdout",
     "output_type": "stream",
     "text": [
      "[[ 1.  2.  3.  4.]\n",
      " [ 5.  6. nan  8.]\n",
      " [10. 11. 12. nan]]\n"
     ]
    }
   ],
   "source": [
    "# ===========================================\n",
    "# Access numpy array from pandas data frame\n",
    "# ============================================\n",
    "# access the underlying NumPy array\n",
    "# via the `values` attribute\n",
    "df_array = df.values\n",
    "print(df_array)"
   ]
  },
  {
   "cell_type": "code",
   "execution_count": 5,
   "metadata": {},
   "outputs": [
    {
     "data": {
      "text/html": [
       "<style type=\"text/css\">\n",
       "#T_22284_row0_col0, #T_22284_row0_col1, #T_22284_row0_col2, #T_22284_row0_col3 {\n",
       "  background-color: #f7fcf5;\n",
       "  color: #000000;\n",
       "}\n",
       "#T_22284_row1_col0, #T_22284_row1_col1 {\n",
       "  background-color: #88ce87;\n",
       "  color: #000000;\n",
       "}\n",
       "#T_22284_row1_col2, #T_22284_row2_col3 {\n",
       "  background-color: #000000;\n",
       "  color: #f1f1f1;\n",
       "  background-color: orange;\n",
       "}\n",
       "#T_22284_row1_col3, #T_22284_row2_col0, #T_22284_row2_col1, #T_22284_row2_col2 {\n",
       "  background-color: #00441b;\n",
       "  color: #f1f1f1;\n",
       "}\n",
       "</style>\n",
       "<table id=\"T_22284\">\n",
       "  <thead>\n",
       "    <tr>\n",
       "      <th class=\"blank level0\" >&nbsp;</th>\n",
       "      <th id=\"T_22284_level0_col0\" class=\"col_heading level0 col0\" >A</th>\n",
       "      <th id=\"T_22284_level0_col1\" class=\"col_heading level0 col1\" >B</th>\n",
       "      <th id=\"T_22284_level0_col2\" class=\"col_heading level0 col2\" >C</th>\n",
       "      <th id=\"T_22284_level0_col3\" class=\"col_heading level0 col3\" >D</th>\n",
       "    </tr>\n",
       "  </thead>\n",
       "  <tbody>\n",
       "    <tr>\n",
       "      <th id=\"T_22284_level0_row0\" class=\"row_heading level0 row0\" >0</th>\n",
       "      <td id=\"T_22284_row0_col0\" class=\"data row0 col0\" >1.00</td>\n",
       "      <td id=\"T_22284_row0_col1\" class=\"data row0 col1\" >2.00</td>\n",
       "      <td id=\"T_22284_row0_col2\" class=\"data row0 col2\" >3.00</td>\n",
       "      <td id=\"T_22284_row0_col3\" class=\"data row0 col3\" >4.00</td>\n",
       "    </tr>\n",
       "    <tr>\n",
       "      <th id=\"T_22284_level0_row1\" class=\"row_heading level0 row1\" >1</th>\n",
       "      <td id=\"T_22284_row1_col0\" class=\"data row1 col0\" >5.00</td>\n",
       "      <td id=\"T_22284_row1_col1\" class=\"data row1 col1\" >6.00</td>\n",
       "      <td id=\"T_22284_row1_col2\" class=\"data row1 col2\" >nan</td>\n",
       "      <td id=\"T_22284_row1_col3\" class=\"data row1 col3\" >8.00</td>\n",
       "    </tr>\n",
       "    <tr>\n",
       "      <th id=\"T_22284_level0_row2\" class=\"row_heading level0 row2\" >2</th>\n",
       "      <td id=\"T_22284_row2_col0\" class=\"data row2 col0\" >10.00</td>\n",
       "      <td id=\"T_22284_row2_col1\" class=\"data row2 col1\" >11.00</td>\n",
       "      <td id=\"T_22284_row2_col2\" class=\"data row2 col2\" >12.00</td>\n",
       "      <td id=\"T_22284_row2_col3\" class=\"data row2 col3\" >nan</td>\n",
       "    </tr>\n",
       "  </tbody>\n",
       "</table>\n"
      ],
      "text/plain": [
       "<pandas.io.formats.style.Styler at 0x14143f83730>"
      ]
     },
     "execution_count": 5,
     "metadata": {},
     "output_type": "execute_result"
    }
   ],
   "source": [
    "# show initial dataset again\n",
    "show_dataset(df)"
   ]
  },
  {
   "cell_type": "code",
   "execution_count": 6,
   "metadata": {},
   "outputs": [
    {
     "data": {
      "text/html": [
       "<style type=\"text/css\">\n",
       "#T_866b0_row0_col0, #T_866b0_row0_col1, #T_866b0_row0_col2, #T_866b0_row0_col3 {\n",
       "  background-color: #f7fcf5;\n",
       "  color: #000000;\n",
       "}\n",
       "</style>\n",
       "<table id=\"T_866b0\">\n",
       "  <thead>\n",
       "    <tr>\n",
       "      <th class=\"blank level0\" >&nbsp;</th>\n",
       "      <th id=\"T_866b0_level0_col0\" class=\"col_heading level0 col0\" >A</th>\n",
       "      <th id=\"T_866b0_level0_col1\" class=\"col_heading level0 col1\" >B</th>\n",
       "      <th id=\"T_866b0_level0_col2\" class=\"col_heading level0 col2\" >C</th>\n",
       "      <th id=\"T_866b0_level0_col3\" class=\"col_heading level0 col3\" >D</th>\n",
       "    </tr>\n",
       "  </thead>\n",
       "  <tbody>\n",
       "    <tr>\n",
       "      <th id=\"T_866b0_level0_row0\" class=\"row_heading level0 row0\" >0</th>\n",
       "      <td id=\"T_866b0_row0_col0\" class=\"data row0 col0\" >1.00</td>\n",
       "      <td id=\"T_866b0_row0_col1\" class=\"data row0 col1\" >2.00</td>\n",
       "      <td id=\"T_866b0_row0_col2\" class=\"data row0 col2\" >3.00</td>\n",
       "      <td id=\"T_866b0_row0_col3\" class=\"data row0 col3\" >4.00</td>\n",
       "    </tr>\n",
       "  </tbody>\n",
       "</table>\n"
      ],
      "text/plain": [
       "<pandas.io.formats.style.Styler at 0x141472b9a80>"
      ]
     },
     "execution_count": 6,
     "metadata": {},
     "output_type": "execute_result"
    }
   ],
   "source": [
    "# ===========================================\n",
    "# (A) Remove rows that contain missing values\n",
    "# ============================================\n",
    "a = df.dropna(axis=0)\n",
    "\n",
    "# show the dataset\n",
    "show_dataset(a)"
   ]
  },
  {
   "cell_type": "code",
   "execution_count": 7,
   "metadata": {},
   "outputs": [
    {
     "data": {
      "text/html": [
       "<style type=\"text/css\">\n",
       "#T_97af8_row0_col0, #T_97af8_row0_col1 {\n",
       "  background-color: #f7fcf5;\n",
       "  color: #000000;\n",
       "}\n",
       "#T_97af8_row1_col0, #T_97af8_row1_col1 {\n",
       "  background-color: #88ce87;\n",
       "  color: #000000;\n",
       "}\n",
       "#T_97af8_row2_col0, #T_97af8_row2_col1 {\n",
       "  background-color: #00441b;\n",
       "  color: #f1f1f1;\n",
       "}\n",
       "</style>\n",
       "<table id=\"T_97af8\">\n",
       "  <thead>\n",
       "    <tr>\n",
       "      <th class=\"blank level0\" >&nbsp;</th>\n",
       "      <th id=\"T_97af8_level0_col0\" class=\"col_heading level0 col0\" >A</th>\n",
       "      <th id=\"T_97af8_level0_col1\" class=\"col_heading level0 col1\" >B</th>\n",
       "    </tr>\n",
       "  </thead>\n",
       "  <tbody>\n",
       "    <tr>\n",
       "      <th id=\"T_97af8_level0_row0\" class=\"row_heading level0 row0\" >0</th>\n",
       "      <td id=\"T_97af8_row0_col0\" class=\"data row0 col0\" >1.00</td>\n",
       "      <td id=\"T_97af8_row0_col1\" class=\"data row0 col1\" >2.00</td>\n",
       "    </tr>\n",
       "    <tr>\n",
       "      <th id=\"T_97af8_level0_row1\" class=\"row_heading level0 row1\" >1</th>\n",
       "      <td id=\"T_97af8_row1_col0\" class=\"data row1 col0\" >5.00</td>\n",
       "      <td id=\"T_97af8_row1_col1\" class=\"data row1 col1\" >6.00</td>\n",
       "    </tr>\n",
       "    <tr>\n",
       "      <th id=\"T_97af8_level0_row2\" class=\"row_heading level0 row2\" >2</th>\n",
       "      <td id=\"T_97af8_row2_col0\" class=\"data row2 col0\" >10.00</td>\n",
       "      <td id=\"T_97af8_row2_col1\" class=\"data row2 col1\" >11.00</td>\n",
       "    </tr>\n",
       "  </tbody>\n",
       "</table>\n"
      ],
      "text/plain": [
       "<pandas.io.formats.style.Styler at 0x141472ba710>"
      ]
     },
     "execution_count": 7,
     "metadata": {},
     "output_type": "execute_result"
    }
   ],
   "source": [
    "# ===========================================\n",
    "# (B) Remove columns that contain missing values\n",
    "# ============================================\n",
    "b = df.dropna(axis=1)\n",
    "\n",
    "# show the dataset\n",
    "show_dataset(b)"
   ]
  },
  {
   "cell_type": "code",
   "execution_count": null,
   "metadata": {},
   "outputs": [],
   "source": [
    "# make one sample completely empty\n",
    "modified_df = df.copy()\n",
    "modified_df.loc[2] = np.nan\n",
    "show_dataset(modified_df)"
   ]
  },
  {
   "cell_type": "code",
   "execution_count": null,
   "metadata": {},
   "outputs": [],
   "source": [
    "# ===========================================\n",
    "# (C) Remove row where all columns are NaN\n",
    "# ============================================\n",
    "c = modified_df.dropna(how='all')\n",
    "\n",
    "# show the dataset\n",
    "show_dataset(c)"
   ]
  },
  {
   "cell_type": "code",
   "execution_count": null,
   "metadata": {},
   "outputs": [],
   "source": [
    "# ===========================================\n",
    "# (D) Remove rows that have less than 4 real values\n",
    "# ============================================\n",
    "d = df.dropna(thresh=4)\n",
    "\n",
    "# show the dataset\n",
    "show_dataset(d)"
   ]
  },
  {
   "cell_type": "code",
   "execution_count": null,
   "metadata": {},
   "outputs": [],
   "source": [
    "# ===========================================\n",
    "# (E) Only drop rows where NaN appear in specific columns (here: 'C')\n",
    "# ============================================\n",
    "f = df.dropna(subset=['C'])\n",
    "\n",
    "# show the dataset\n",
    "show_dataset(f)"
   ]
  },
  {
   "cell_type": "markdown",
   "metadata": {},
   "source": [
    "# Imputing missing values"
   ]
  },
  {
   "cell_type": "code",
   "execution_count": null,
   "metadata": {},
   "outputs": [],
   "source": [
    "show_dataset(df)"
   ]
  },
  {
   "cell_type": "code",
   "execution_count": 11,
   "metadata": {},
   "outputs": [],
   "source": [
    "from sklearn.impute import SimpleImputer"
   ]
  },
  {
   "cell_type": "code",
   "execution_count": 12,
   "metadata": {},
   "outputs": [
    {
     "data": {
      "text/html": [
       "<style type=\"text/css\">\n",
       "#T_68028_row0_col0, #T_68028_row0_col1, #T_68028_row0_col2, #T_68028_row0_col3 {\n",
       "  background-color: #f7fcf5;\n",
       "  color: #000000;\n",
       "}\n",
       "#T_68028_row1_col0, #T_68028_row1_col1 {\n",
       "  background-color: #88ce87;\n",
       "  color: #000000;\n",
       "}\n",
       "#T_68028_row1_col2, #T_68028_row2_col3 {\n",
       "  background-color: #73c476;\n",
       "  color: #000000;\n",
       "}\n",
       "#T_68028_row1_col3, #T_68028_row2_col0, #T_68028_row2_col1, #T_68028_row2_col2 {\n",
       "  background-color: #00441b;\n",
       "  color: #f1f1f1;\n",
       "}\n",
       "</style>\n",
       "<table id=\"T_68028\">\n",
       "  <thead>\n",
       "    <tr>\n",
       "      <th class=\"blank level0\" >&nbsp;</th>\n",
       "      <th id=\"T_68028_level0_col0\" class=\"col_heading level0 col0\" >0</th>\n",
       "      <th id=\"T_68028_level0_col1\" class=\"col_heading level0 col1\" >1</th>\n",
       "      <th id=\"T_68028_level0_col2\" class=\"col_heading level0 col2\" >2</th>\n",
       "      <th id=\"T_68028_level0_col3\" class=\"col_heading level0 col3\" >3</th>\n",
       "    </tr>\n",
       "  </thead>\n",
       "  <tbody>\n",
       "    <tr>\n",
       "      <th id=\"T_68028_level0_row0\" class=\"row_heading level0 row0\" >0</th>\n",
       "      <td id=\"T_68028_row0_col0\" class=\"data row0 col0\" >1.00</td>\n",
       "      <td id=\"T_68028_row0_col1\" class=\"data row0 col1\" >2.00</td>\n",
       "      <td id=\"T_68028_row0_col2\" class=\"data row0 col2\" >3.00</td>\n",
       "      <td id=\"T_68028_row0_col3\" class=\"data row0 col3\" >4.00</td>\n",
       "    </tr>\n",
       "    <tr>\n",
       "      <th id=\"T_68028_level0_row1\" class=\"row_heading level0 row1\" >1</th>\n",
       "      <td id=\"T_68028_row1_col0\" class=\"data row1 col0\" >5.00</td>\n",
       "      <td id=\"T_68028_row1_col1\" class=\"data row1 col1\" >6.00</td>\n",
       "      <td id=\"T_68028_row1_col2\" class=\"data row1 col2\" >7.50</td>\n",
       "      <td id=\"T_68028_row1_col3\" class=\"data row1 col3\" >8.00</td>\n",
       "    </tr>\n",
       "    <tr>\n",
       "      <th id=\"T_68028_level0_row2\" class=\"row_heading level0 row2\" >2</th>\n",
       "      <td id=\"T_68028_row2_col0\" class=\"data row2 col0\" >10.00</td>\n",
       "      <td id=\"T_68028_row2_col1\" class=\"data row2 col1\" >11.00</td>\n",
       "      <td id=\"T_68028_row2_col2\" class=\"data row2 col2\" >12.00</td>\n",
       "      <td id=\"T_68028_row2_col3\" class=\"data row2 col3\" >6.00</td>\n",
       "    </tr>\n",
       "  </tbody>\n",
       "</table>\n"
      ],
      "text/plain": [
       "<pandas.io.formats.style.Styler at 0x1414fb07ac0>"
      ]
     },
     "execution_count": 12,
     "metadata": {},
     "output_type": "execute_result"
    }
   ],
   "source": [
    "# Impute missing values using the column mean\n",
    "imputer = SimpleImputer(missing_values=np.nan, strategy='mean') # other popular choices: \"median\", \"most_frequent\"\n",
    "imputer.fit(df.values)\n",
    "imputed_data = imputer.transform(df.values)\n",
    "\n",
    "# show the dataset\n",
    "# note that the output of the SimpleImputer is a NumPy array\n",
    "# so we need to convert it back to a pandas DataFrame to use our helper function\n",
    "show_dataset(pd.DataFrame(imputed_data))"
   ]
  }
 ],
 "metadata": {
  "kernelspec": {
   "display_name": "Python 3 (ipykernel)",
   "language": "python",
   "name": "python3"
  },
  "language_info": {
   "codemirror_mode": {
    "name": "ipython",
    "version": 3
   },
   "file_extension": ".py",
   "mimetype": "text/x-python",
   "name": "python",
   "nbconvert_exporter": "python",
   "pygments_lexer": "ipython3",
   "version": "3.10.8"
  }
 },
 "nbformat": 4,
 "nbformat_minor": 4
}
