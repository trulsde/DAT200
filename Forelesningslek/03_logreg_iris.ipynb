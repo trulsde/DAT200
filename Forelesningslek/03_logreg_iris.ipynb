{
 "cells": [
  {
   "cell_type": "code",
   "execution_count": 16,
   "metadata": {},
   "outputs": [
    {
     "name": "stdout",
     "output_type": "stream",
     "text": [
      "['mean radius' 'mean texture' 'mean perimeter' 'mean area'\n",
      " 'mean smoothness' 'mean compactness' 'mean concavity'\n",
      " 'mean concave points' 'mean symmetry' 'mean fractal dimension'\n",
      " 'radius error' 'texture error' 'perimeter error' 'area error'\n",
      " 'smoothness error' 'compactness error' 'concavity error'\n",
      " 'concave points error' 'symmetry error' 'fractal dimension error'\n",
      " 'worst radius' 'worst texture' 'worst perimeter' 'worst area'\n",
      " 'worst smoothness' 'worst compactness' 'worst concavity'\n",
      " 'worst concave points' 'worst symmetry' 'worst fractal dimension']\n",
      "Mean of X_train_sc: [-2.34430008e-15  4.54773014e-15  1.92754802e-15  5.46742997e-16\n",
      "  3.99457128e-15  3.28045798e-16  6.70875973e-17  3.70446276e-16\n",
      " -4.32610396e-15 -4.97424547e-15 -5.57901017e-17  2.39897437e-16\n",
      "  1.84107336e-17  2.78950509e-17 -4.06151941e-16  6.18014852e-16\n",
      "  1.76017771e-16  1.39028934e-15 -3.06789769e-15  6.66343028e-16\n",
      "  2.23997258e-15  3.76025286e-16  3.08519263e-15 -3.94436019e-16\n",
      "  5.99353063e-15 -2.78671558e-16  3.54267146e-17 -4.64731547e-16\n",
      " -2.40260073e-15  2.14736102e-15]\n",
      "Stddev of X_train_sc: [1. 1. 1. 1. 1. 1. 1. 1. 1. 1. 1. 1. 1. 1. 1. 1. 1. 1. 1. 1. 1. 1. 1. 1.\n",
      " 1. 1. 1. 1. 1. 1.]\n",
      "Misclassified samples: 6\n",
      "Accuracy on the train set: 0.9949748743718593\n",
      "Accuracy on the test set: 0.9649122807017544\n"
     ]
    }
   ],
   "source": [
    "# ==============================================================================\n",
    "# Import modules\n",
    "# ==============================================================================\n",
    "\n",
    "import numpy as np\n",
    "from sklearn import datasets\n",
    "from sklearn.linear_model import LogisticRegression\n",
    "from sklearn.model_selection import train_test_split\n",
    "from sklearn.preprocessing import StandardScaler\n",
    "\n",
    "# ==============================================================================\n",
    "# Load data and select features Split into training and test data\n",
    "# ==============================================================================\n",
    "data = datasets.load_breast_cancer()\n",
    "X = data.data\n",
    "y = data.target\n",
    "print(data.feature_names)\n",
    "\n",
    "# Split data into training and test data (70% training, 30% test)\n",
    "X_train, X_test, y_train, y_test = train_test_split(X, y, test_size=0.3, random_state=1, stratify=y)\n",
    "\n",
    "# ==============================================================================\n",
    "# Scale features using StandardScaler class in scikit-learn\n",
    "# ==============================================================================\n",
    "\n",
    "# Initialise standard scaler and compute mean and STD from training data\n",
    "sc = StandardScaler()\n",
    "sc.fit(X_train)\n",
    "\n",
    "# Transform (standardise) both X_train and X_test with mean and stddev from\n",
    "# training data\n",
    "X_train_sc = sc.transform(X_train)\n",
    "X_test_sc = sc.transform(X_test)\n",
    "\n",
    "print(\"Mean of X_train_sc:\", np.mean(X_train_sc, axis=0))\n",
    "print(\"Stddev of X_train_sc:\", np.std(X_train_sc, axis=0))\n",
    "\n",
    "C = 10\n",
    "clf = LogisticRegression(max_iter=100, solver=\"liblinear\", multi_class=\"auto\", random_state=1, penalty=\"l2\", C=C)\n",
    "clf.fit(X_train_sc, y_train)\n",
    "\n",
    "y_pred = clf.predict(X_test_sc)\n",
    "print(\"Misclassified samples: {0}\".format((y_test != y_pred).sum()))\n",
    "\n",
    "train_score = clf.score(X_train_sc, y_train)\n",
    "test_score = clf.score(X_test_sc, y_test)\n",
    "print(\"Accuracy on the train set:\", train_score)\n",
    "print(\"Accuracy on the test set:\", test_score)"
   ]
  }
 ],
 "metadata": {
  "kernelspec": {
   "display_name": "Python 3 (ipykernel)",
   "language": "python",
   "name": "python3"
  },
  "language_info": {
   "codemirror_mode": {
    "name": "ipython",
    "version": 3
   },
   "file_extension": ".py",
   "mimetype": "text/x-python",
   "name": "python",
   "nbconvert_exporter": "python",
   "pygments_lexer": "ipython3",
   "version": "3.10.8"
  }
 },
 "nbformat": 4,
 "nbformat_minor": 4
}
